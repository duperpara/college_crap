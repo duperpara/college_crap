{
 "cells": [
  {
   "cell_type": "code",
   "execution_count": 1,
   "metadata": {
    "collapsed": true
   },
   "outputs": [],
   "source": [
    "import sympy as sp"
   ]
  },
  {
   "cell_type": "code",
   "execution_count": 2,
   "outputs": [],
   "source": [
    "s, z, T, kp, ki = sp.symbols('s, z, T, kp, ki')"
   ],
   "metadata": {
    "collapsed": false,
    "pycharm": {
     "name": "#%%\n"
    }
   }
  },
  {
   "cell_type": "code",
   "execution_count": 3,
   "outputs": [
    {
     "data": {
      "text/plain": "1/(s + 7)",
      "text/latex": "$\\displaystyle \\frac{1}{s + 7}$"
     },
     "execution_count": 3,
     "metadata": {},
     "output_type": "execute_result"
    }
   ],
   "source": [
    "# erro nulo\n",
    "# ta = 0.5s\n",
    "# So < 10%\n",
    "# sugestão PI\n",
    "\n",
    "g = 1/(s+7)\n",
    "g"
   ],
   "metadata": {
    "collapsed": false,
    "pycharm": {
     "name": "#%%\n"
    }
   }
  },
  {
   "cell_type": "code",
   "execution_count": 4,
   "outputs": [
    {
     "data": {
      "text/plain": "ki/s + kp",
      "text/latex": "$\\displaystyle \\frac{ki}{s} + kp$"
     },
     "execution_count": 4,
     "metadata": {},
     "output_type": "execute_result"
    }
   ],
   "source": [
    "c = (kp + ki/s)\n",
    "c"
   ],
   "metadata": {
    "collapsed": false,
    "pycharm": {
     "name": "#%%\n"
    }
   }
  },
  {
   "cell_type": "code",
   "execution_count": 5,
   "outputs": [
    {
     "data": {
      "text/plain": "(ki + kp*s)/(ki + kp*s + s**2 + 7*s)",
      "text/latex": "$\\displaystyle \\frac{ki + kp s}{ki + kp s + s^{2} + 7 s}$"
     },
     "execution_count": 5,
     "metadata": {},
     "output_type": "execute_result"
    }
   ],
   "source": [
    "u = (g*c/(1+g*c)).simplify().expand().simplify()\n",
    "u"
   ],
   "metadata": {
    "collapsed": false,
    "pycharm": {
     "name": "#%%\n"
    }
   }
  },
  {
   "cell_type": "code",
   "execution_count": 78,
   "outputs": [
    {
     "data": {
      "text/plain": "[kp, ki]"
     },
     "execution_count": 78,
     "metadata": {},
     "output_type": "execute_result"
    }
   ],
   "source": [
    "nom = [kp, ki]\n",
    "nom"
   ],
   "metadata": {
    "collapsed": false,
    "pycharm": {
     "name": "#%%\n"
    }
   }
  },
  {
   "cell_type": "code",
   "execution_count": 79,
   "outputs": [
    {
     "data": {
      "text/plain": "[1, kp + 7, ki]"
     },
     "execution_count": 79,
     "metadata": {},
     "output_type": "execute_result"
    }
   ],
   "source": [
    "den = [1, kp+7, ki]\n",
    "den"
   ],
   "metadata": {
    "collapsed": false,
    "pycharm": {
     "name": "#%%\n"
    }
   }
  },
  {
   "cell_type": "code",
   "execution_count": 6,
   "outputs": [],
   "source": [
    "from college_crap_lib.ctrl.control_ii import rutiruti_jury, get_ta_so_ereg"
   ],
   "metadata": {
    "collapsed": false,
    "pycharm": {
     "name": "#%%\n"
    }
   }
  },
  {
   "cell_type": "code",
   "execution_count": 7,
   "outputs": [
    {
     "data": {
      "text/plain": "[ki, (-ki*(kp + 7) + kp + 7)/(1 - ki**2)]"
     },
     "execution_count": 7,
     "metadata": {},
     "output_type": "execute_result"
    }
   ],
   "source": [
    "rutiruti_jury([1, kp+7, ki])"
   ],
   "metadata": {
    "collapsed": false,
    "pycharm": {
     "name": "#%%\n"
    }
   }
  },
  {
   "cell_type": "code",
   "execution_count": 8,
   "outputs": [
    {
     "data": {
      "text/plain": "[13.7142857142857]"
     },
     "metadata": {},
     "output_type": "display_data"
    },
    {
     "name": "stdout",
     "output_type": "stream",
     "text": [
      "csi=0.7, wn=13.7142857142857\n"
     ]
    }
   ],
   "source": [
    "csi, wn = sp.symbols('csi, wn')\n",
    "csi = 0.7\n",
    "sol =  sp.solve(0.5 - (4.8 / (csi * wn)), wn)\n",
    "display(sol)\n",
    "wn = sol[0]\n",
    "print(f'{csi=}, {wn=}')"
   ],
   "metadata": {
    "collapsed": false,
    "pycharm": {
     "name": "#%%\n"
    }
   }
  },
  {
   "cell_type": "code",
   "execution_count": 9,
   "outputs": [],
   "source": [
    "from copy import copy"
   ],
   "metadata": {
    "collapsed": false,
    "pycharm": {
     "name": "#%%\n"
    }
   }
  },
  {
   "cell_type": "code",
   "execution_count": 10,
   "outputs": [
    {
     "data": {
      "text/plain": "{kp: 12.2000000000000, ki: 188.081632653061}"
     },
     "metadata": {},
     "output_type": "display_data"
    },
    {
     "data": {
      "text/plain": "(12.2*s + 188.081632653061)/(s**2 + 19.2*s + 188.081632653061)",
      "text/latex": "$\\displaystyle \\frac{12.2 s + 188.081632653061}{s^{2} + 19.2 s + 188.081632653061}$"
     },
     "execution_count": 10,
     "metadata": {},
     "output_type": "execute_result"
    }
   ],
   "source": [
    "sol = sp.solve([\n",
    "    kp+7 - 2*csi*wn,\n",
    "    ki - wn**2,\n",
    "], (kp, ki))\n",
    "display(sol)\n",
    "\n",
    "tf = copy(u)\n",
    "\n",
    "for var, val in sol.items():\n",
    "    tf = tf.replace(var, val)\n",
    "tf"
   ],
   "metadata": {
    "collapsed": false,
    "pycharm": {
     "name": "#%%\n"
    }
   }
  },
  {
   "cell_type": "code",
   "execution_count": 11,
   "outputs": [
    {
     "name": "stdout",
     "output_type": "stream",
     "text": [
      "[[12.2, 188.08163], [1, 19.2, 188.08163]]\n"
     ]
    },
    {
     "data": {
      "text/plain": "{'ta': 9.600000000000001, 'So': 0.6014532822230392, 'ereg': 0.0}"
     },
     "execution_count": 11,
     "metadata": {},
     "output_type": "execute_result"
    }
   ],
   "source": [
    "get_ta_so_ereg([[12.2, 188.08163], [1, 19.2, 188.08163]])"
   ],
   "metadata": {
    "collapsed": false,
    "pycharm": {
     "name": "#%%\n"
    }
   }
  },
  {
   "cell_type": "code",
   "execution_count": 17,
   "outputs": [],
   "source": [
    "import control\n",
    "import matplotlib.pyplot as plt\n",
    "import pandas as pd"
   ],
   "metadata": {
    "collapsed": false,
    "pycharm": {
     "name": "#%%\n"
    }
   }
  },
  {
   "cell_type": "code",
   "execution_count": 38,
   "outputs": [
    {
     "data": {
      "text/plain": "<AxesSubplot: >"
     },
     "execution_count": 38,
     "metadata": {},
     "output_type": "execute_result"
    },
    {
     "data": {
      "text/plain": "<Figure size 640x480 with 1 Axes>",
      "image/png": "[encoded data removed]"
     },
     "metadata": {},
     "output_type": "display_data"
    }
   ],
   "source": [
    "s = pd.Series(*reversed([*control.step_response(control.tf([12.2, 188.08163], [1, 19.2, 188.08163]))]))\n",
    "s.plot()"
   ],
   "metadata": {
    "collapsed": false,
    "pycharm": {
     "name": "#%%\n"
    }
   }
  },
  {
   "cell_type": "code",
   "execution_count": 14,
   "outputs": [],
   "source": [
    "from piv.result_verification import get_vreg\n"
   ],
   "metadata": {
    "collapsed": false,
    "pycharm": {
     "name": "#%%\n"
    }
   }
  },
  {
   "cell_type": "code",
   "execution_count": 50,
   "outputs": [
    {
     "data": {
      "text/plain": "(0.3779495733449823, 0.9998882789305504)"
     },
     "execution_count": 50,
     "metadata": {},
     "output_type": "execute_result"
    }
   ],
   "source": [
    "get_vreg(s, delta=0.02)"
   ],
   "metadata": {
    "collapsed": false,
    "pycharm": {
     "name": "#%%\n"
    }
   }
  },
  {
   "cell_type": "code",
   "execution_count": 61,
   "outputs": [
    {
     "data": {
      "text/plain": "<Figure size 640x480 with 1 Axes>",
      "image/png": "[encoded data removed]"
     },
     "metadata": {},
     "output_type": "display_data"
    },
    {
     "data": {
      "text/plain": "   Setpoint       ta      vreg      ereg     ereg%        So      So%\n0         1  0.37795  0.999888 -0.000112  -0.0112%  0.093741  9.3752%",
      "text/html": "<div>\n<style scoped>\n    .dataframe tbody tr th:only-of-type {\n        vertical-align: middle;\n    }\n\n    .dataframe tbody tr th {\n        vertical-align: top;\n    }\n\n    .dataframe thead th {\n        text-align: right;\n    }\n</style>\n<table border=\"1\" class=\"dataframe\">\n  <thead>\n    <tr style=\"text-align: right;\">\n      <th></th>\n      <th>Setpoint</th>\n      <th>ta</th>\n      <th>vreg</th>\n      <th>ereg</th>\n      <th>ereg%</th>\n      <th>So</th>\n      <th>So%</th>\n    </tr>\n  </thead>\n  <tbody>\n    <tr>\n      <th>0</th>\n      <td>1</td>\n      <td>0.37795</td>\n      <td>0.999888</td>\n      <td>-0.000112</td>\n      <td>-0.0112%</td>\n      <td>0.093741</td>\n      <td>9.3752%</td>\n    </tr>\n  </tbody>\n</table>\n</div>"
     },
     "metadata": {},
     "output_type": "display_data"
    },
    {
     "name": "stdout",
     "output_type": "stream",
     "text": [
      "\n",
      "\n",
      "--------------------------------------------\n",
      "\n",
      "\n"
     ]
    }
   ],
   "source": [
    "ta, vreg = get_vreg(s, delta=0.02)\n",
    "s.plot(color='red', label=\"data\")\n",
    "\n",
    "# info.get('lin_data').plot(color=\"blue\", label=\"lindata\")\n",
    "\n",
    "plt.axhline(y=vreg, color='orange', label=\"vreg\")\n",
    "plt.axhline(y=vreg*1.05, color='orange', linestyle='--', label=\"vreg+/-5%\")\n",
    "plt.axhline(y=vreg*0.95, color='orange', linestyle='--')\n",
    "\n",
    "plt.axhline(y=1, color='yellow', linestyle='-', label=\"Setpoint\")\n",
    "\n",
    "pd.Series((s[ta], ), (ta, )).plot(color=\"green\", label=\"ta\", linestyle='--', marker='o')\n",
    "plt.axvline(x=ta, color='green', linestyle='--')\n",
    "pd.Series((s.max(), ), (s.index[s.argmax()], )).plot(color=\"purple\", label=\"So\", linestyle='--', marker='o')\n",
    "plt.axvline(x=s.index[s.argmax()], color='purple', linestyle='--')\n",
    "\n",
    "plt.legend(bbox_to_anchor = (.85, 0.45), loc = 'upper center')\n",
    "plt.show()\n",
    "only_indicators_di = {\n",
    "    'Setpoint': [1],\n",
    "    'ta': [ta],\n",
    "    'vreg': [vreg],\n",
    "    'ereg': [vreg-1],\n",
    "    'ereg%': [str(round((100*vreg/1)-100, 4)) + '%'],\n",
    "    'So': [s.max()-vreg],\n",
    "    'So%': [str(round((100*s.max()/vreg)-100, 4)) + '%'],\n",
    "}\n",
    "display(pd.DataFrame(only_indicators_di))\n",
    "print(\"\\n\\n--------------------------------------------\\n\\n\")"
   ],
   "metadata": {
    "collapsed": false,
    "pycharm": {
     "name": "#%%\n"
    }
   }
  },
  {
   "cell_type": "code",
   "execution_count": null,
   "outputs": [],
   "source": [],
   "metadata": {
    "collapsed": false,
    "pycharm": {
     "name": "#%%\n"
    }
   }
  },
  {
   "cell_type": "code",
   "execution_count": 86,
   "outputs": [],
   "source": [
    "def get_range_of_values(base_val, rang, variance=0.1):\n",
    "    val_var = base_val*variance\n",
    "    step = val_var/rang\n",
    "    start = base_val-val_var/2\n",
    "    li = []\n",
    "    for r in range(rang):\n",
    "        li.append(start+step*r)\n",
    "    return li"
   ],
   "metadata": {
    "collapsed": false,
    "pycharm": {
     "name": "#%%\n"
    }
   }
  },
  {
   "cell_type": "code",
   "execution_count": 109,
   "outputs": [
    {
     "data": {
      "text/plain": "          kp        ki        ta      ereg        So\n0   2.462625  34.14840  0.516165  0.004230  0.010920\n1   2.462625  34.18272  0.516165  0.004301  0.010940\n2   2.462625  34.21704  0.501417  0.003602  0.011731\n3   2.462625  34.25136  0.501417  0.003676  0.011748\n4   2.462625  34.28568  0.501417  0.003750  0.011764\n..       ...       ...       ...       ...       ...\n95  2.484900  34.32000  0.500239  0.003535  0.011680\n96  2.484900  34.35432  0.500239  0.003609  0.011696\n97  2.484900  34.38864  0.500239  0.003683  0.011712\n98  2.484900  34.42296  0.500239  0.003757  0.011728\n99  2.484900  34.45728  0.500239  0.003830  0.011744\n\n[100 rows x 5 columns]",
      "text/html": "<div>\n<style scoped>\n    .dataframe tbody tr th:only-of-type {\n        vertical-align: middle;\n    }\n\n    .dataframe tbody tr th {\n        vertical-align: top;\n    }\n\n    .dataframe thead th {\n        text-align: right;\n    }\n</style>\n<table border=\"1\" class=\"dataframe\">\n  <thead>\n    <tr style=\"text-align: right;\">\n      <th></th>\n      <th>kp</th>\n      <th>ki</th>\n      <th>ta</th>\n      <th>ereg</th>\n      <th>So</th>\n    </tr>\n  </thead>\n  <tbody>\n    <tr>\n      <th>0</th>\n      <td>2.462625</td>\n      <td>34.14840</td>\n      <td>0.516165</td>\n      <td>0.004230</td>\n      <td>0.010920</td>\n    </tr>\n    <tr>\n      <th>1</th>\n      <td>2.462625</td>\n      <td>34.18272</td>\n      <td>0.516165</td>\n      <td>0.004301</td>\n      <td>0.010940</td>\n    </tr>\n    <tr>\n      <th>2</th>\n      <td>2.462625</td>\n      <td>34.21704</td>\n      <td>0.501417</td>\n      <td>0.003602</td>\n      <td>0.011731</td>\n    </tr>\n    <tr>\n      <th>3</th>\n      <td>2.462625</td>\n      <td>34.25136</td>\n      <td>0.501417</td>\n      <td>0.003676</td>\n      <td>0.011748</td>\n    </tr>\n    <tr>\n      <th>4</th>\n      <td>2.462625</td>\n      <td>34.28568</td>\n      <td>0.501417</td>\n      <td>0.003750</td>\n      <td>0.011764</td>\n    </tr>\n    <tr>\n      <th>...</th>\n      <td>...</td>\n      <td>...</td>\n      <td>...</td>\n      <td>...</td>\n      <td>...</td>\n    </tr>\n    <tr>\n      <th>95</th>\n      <td>2.484900</td>\n      <td>34.32000</td>\n      <td>0.500239</td>\n      <td>0.003535</td>\n      <td>0.011680</td>\n    </tr>\n    <tr>\n      <th>96</th>\n      <td>2.484900</td>\n      <td>34.35432</td>\n      <td>0.500239</td>\n      <td>0.003609</td>\n      <td>0.011696</td>\n    </tr>\n    <tr>\n      <th>97</th>\n      <td>2.484900</td>\n      <td>34.38864</td>\n      <td>0.500239</td>\n      <td>0.003683</td>\n      <td>0.011712</td>\n    </tr>\n    <tr>\n      <th>98</th>\n      <td>2.484900</td>\n      <td>34.42296</td>\n      <td>0.500239</td>\n      <td>0.003757</td>\n      <td>0.011728</td>\n    </tr>\n    <tr>\n      <th>99</th>\n      <td>2.484900</td>\n      <td>34.45728</td>\n      <td>0.500239</td>\n      <td>0.003830</td>\n      <td>0.011744</td>\n    </tr>\n  </tbody>\n</table>\n<p>100 rows × 5 columns</p>\n</div>"
     },
     "execution_count": 109,
     "metadata": {},
     "output_type": "execute_result"
    }
   ],
   "source": [
    "sol\n",
    "data = {\n",
    "    'kp': [],\n",
    "    'ki': [],\n",
    "    'ta': [],\n",
    "    'ereg': [],\n",
    "    'So': [],\n",
    "}\n",
    "for kp_subs in get_range_of_values(2.475, 10, variance=0.01):\n",
    "    for ki_subs in get_range_of_values(34.32, 10, variance=0.01):\n",
    "        data['kp'].append(kp_subs)\n",
    "        data['ki'].append(ki_subs)\n",
    "\n",
    "        new_nom = []\n",
    "        new_den = []\n",
    "        for n, new_n in zip([nom, den], [new_nom, new_den]):\n",
    "            for value in n:\n",
    "                for k_var, k_val in {kp: kp_subs, ki: ki_subs}.items():\n",
    "                    if not isinstance(value, int) and not isinstance(value, float):\n",
    "                        value = value.replace(k_var, k_val)\n",
    "                new_n.append(float(value))\n",
    "        # print(new_nom)\n",
    "        # print(new_den)\n",
    "        # print('------')\n",
    "        ser = pd.Series(*reversed([*control.step_response(control.tf(new_nom, new_den))]))\n",
    "        ta, vreg = get_vreg(\n",
    "            ser,\n",
    "            delta=0.05\n",
    "        )\n",
    "        data['ta'].append(ta)\n",
    "        data['ereg'].append(vreg-1)\n",
    "        data['So'].append(ser.max()-vreg)\n",
    "result = pd.DataFrame(data)\n",
    "result"
   ],
   "metadata": {
    "collapsed": false,
    "pycharm": {
     "name": "#%%\n"
    }
   }
  },
  {
   "cell_type": "code",
   "execution_count": 16,
   "outputs": [],
   "source": [],
   "metadata": {
    "collapsed": false,
    "pycharm": {
     "name": "#%%\n"
    }
   }
  },
  {
   "cell_type": "code",
   "execution_count": 16,
   "outputs": [],
   "source": [],
   "metadata": {
    "collapsed": false,
    "pycharm": {
     "name": "#%%\n"
    }
   }
  },
  {
   "cell_type": "code",
   "execution_count": 16,
   "outputs": [],
   "source": [],
   "metadata": {
    "collapsed": false,
    "pycharm": {
     "name": "#%%\n"
    }
   }
  },
  {
   "cell_type": "code",
   "execution_count": 16,
   "outputs": [],
   "source": [],
   "metadata": {
    "collapsed": false,
    "pycharm": {
     "name": "#%%\n"
    }
   }
  }
 ],
 "metadata": {
  "kernelspec": {
   "display_name": "Python 3",
   "language": "python",
   "name": "python3"
  },
  "language_info": {
   "codemirror_mode": {
    "name": "ipython",
    "version": 2
   },
   "file_extension": ".py",
   "mimetype": "text/x-python",
   "name": "python",
   "nbconvert_exporter": "python",
   "pygments_lexer": "ipython2",
   "version": "2.7.6"
  }
 },
 "nbformat": 4,
 "nbformat_minor": 0
}