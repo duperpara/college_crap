{
 "cells": [
  {
   "cell_type": "code",
   "execution_count": 1,
   "id": "732ff3c4",
   "metadata": {},
   "outputs": [],
   "source": [
    "import sympy as sp"
   ]
  },
  {
   "cell_type": "code",
   "execution_count": 2,
   "id": "3bda7306",
   "metadata": {},
   "outputs": [],
   "source": [
    "s, z, t, k, K = sp.symbols('s, z, t, k, K')\n",
    "Uz = sp.Function('U')(z)\n",
    "Ez = sp.Function('E')(z)\n",
    "Ys = sp.Function('Y')(s)"
   ]
  },
  {
   "cell_type": "code",
   "execution_count": 3,
   "id": "55825b23",
   "metadata": {},
   "outputs": [],
   "source": [
    "T = 0.1"
   ]
  },
  {
   "cell_type": "code",
   "execution_count": 4,
   "id": "340e1a91",
   "metadata": {},
   "outputs": [
    {
     "data": {
      "text/plain": "Eq(Y(s), 1/(s*(s + 2)))",
      "text/latex": "$\\displaystyle Y{\\left(s \\right)} = \\frac{1}{s \\left(s + 2\\right)}$"
     },
     "execution_count": 4,
     "metadata": {},
     "output_type": "execute_result"
    }
   ],
   "source": [
    "Ys_eq = sp.Eq(Ys, 1/(s*(s+2)))\n",
    "Ys_eq"
   ]
  },
  {
   "cell_type": "code",
   "execution_count": 39,
   "id": "e9c81e4c",
   "metadata": {},
   "outputs": [],
   "source": [
    "a = 2"
   ]
  },
  {
   "cell_type": "code",
   "execution_count": 6,
   "id": "9f82286b",
   "metadata": {},
   "outputs": [
    {
     "data": {
      "text/plain": "Eq(U(z), K*E(z))",
      "text/latex": "$\\displaystyle U{\\left(z \\right)} = K E{\\left(z \\right)}$"
     },
     "execution_count": 6,
     "metadata": {},
     "output_type": "execute_result"
    }
   ],
   "source": [
    "# 2.1\n",
    "\n",
    "ctrl_difs = sp.Eq(Uz, K*Ez)\n",
    "ctrl_difs"
   ]
  },
  {
   "cell_type": "code",
   "execution_count": 7,
   "id": "f7a5fb5a",
   "metadata": {},
   "outputs": [],
   "source": [
    "Ys_1 = Ys_eq.rhs*(1/s)"
   ]
  },
  {
   "cell_type": "code",
   "execution_count": 8,
   "id": "23c5d6e7",
   "metadata": {},
   "outputs": [
    {
     "data": {
      "text/plain": "Eq(1/(s**2*(s + 2)), 0.25*(4/(s**2*(s + 2))))",
      "text/latex": "$\\displaystyle \\frac{1}{s^{2} \\left(s + 2\\right)} = 0.25 \\cdot \\frac{4}{s^{2} \\left(s + 2\\right)}$"
     },
     "execution_count": 8,
     "metadata": {},
     "output_type": "execute_result"
    }
   ],
   "source": [
    "Ys_2w = (4)*Ys_1\n",
    "with sp.evaluate(False):\n",
    "    Ys_eq2 = (sp.Eq(Ys_1, (1/4)*Ys_2w, evaluate=False))\n",
    "Ys_eq2"
   ]
  },
  {
   "cell_type": "code",
   "execution_count": 9,
   "id": "88fab8cc",
   "metadata": {},
   "outputs": [],
   "source": [
    "Hz = sp.Function('H')(z)"
   ]
  },
  {
   "cell_type": "code",
   "execution_count": 43,
   "outputs": [
    {
     "data": {
      "text/plain": "T*a - 1 + exp(-T*a)",
      "text/latex": "$\\displaystyle T a - 1 + e^{- T a}$"
     },
     "execution_count": 43,
     "metadata": {},
     "output_type": "execute_result"
    }
   ],
   "source": [
    "a, T = sp.symbols('a, T')\n",
    "(a*T-1+sp.exp(-a*T))"
   ],
   "metadata": {
    "collapsed": false,
    "pycharm": {
     "name": "#%%\n"
    }
   }
  },
  {
   "cell_type": "code",
   "execution_count": 44,
   "id": "45097b18",
   "metadata": {
    "scrolled": true
   },
   "outputs": [
    {
     "data": {
      "text/plain": "Eq(H(z), 0.25*(T*a - 1 + exp(-T*a) + (-T*a*exp(-T*a) + 1 - exp(-T*a))/z)/(z*(1 - 1/z)*(1 - exp(-T*a)/z)))",
      "text/latex": "$\\displaystyle H{\\left(z \\right)} = \\frac{0.25 \\left(T a - 1 + e^{- T a} + \\frac{- T a e^{- T a} + 1 - e^{- T a}}{z}\\right)}{z \\left(1 - \\frac{1}{z}\\right) \\left(1 - \\frac{e^{- T a}}{z}\\right)}$"
     },
     "execution_count": 44,
     "metadata": {},
     "output_type": "execute_result"
    }
   ],
   "source": [
    "# 2.2\n",
    "\n",
    "Hz_eq = sp.Eq(Hz, (\n",
    "    .25*(\n",
    "        (\n",
    "            (a*T-1+sp.exp(-a*T)) +\n",
    "            ( 1 - sp.exp(-a*T) - a*T*sp.exp(-a*T) )*(z**-1)\n",
    "        )*(z**-1)\n",
    "    )\n",
    "    /\n",
    "    ( \n",
    "        ( (1 - (z**-1))**2 ) * \n",
    "        ( 1 - sp.exp(-a*T)*(z**-1) ) \n",
    "    )\n",
    ") * (1-(z**-1)) )\n",
    "Hz_eq"
   ]
  },
  {
   "cell_type": "code",
   "execution_count": 11,
   "id": "50ebbd34",
   "metadata": {},
   "outputs": [
    {
     "data": {
      "text/plain": "0.00438077407660545/(z**2 - 1.81873075307798*z + 0.818730753077982) + 0.00468268826949544/(z - 1.81873075307798 + 0.818730753077982/z)",
      "text/latex": "$\\displaystyle \\frac{0.00438077407660545}{z^{2} - 1.81873075307798 z + 0.818730753077982} + \\frac{0.00468268826949544}{z - 1.81873075307798 + \\frac{0.818730753077982}{z}}$"
     },
     "execution_count": 11,
     "metadata": {},
     "output_type": "execute_result"
    }
   ],
   "source": [
    "Hz_eq.rhs.expand().simplify()"
   ]
  },
  {
   "cell_type": "code",
   "execution_count": 12,
   "id": "9af23cfc",
   "metadata": {},
   "outputs": [
    {
     "data": {
      "text/plain": "0.25*K*(0.0187307530779818 + 0.0175230963064218/z)/(z*(1 - 1/z)*(1 - 0.818730753077982/z)*(0.25*K*(0.0187307530779818 + 0.0175230963064218/z)/(z*(1 - 1/z)*(1 - 0.818730753077982/z)) + 1))",
      "text/latex": "$\\displaystyle \\frac{0.25 K \\left(0.0187307530779818 + \\frac{0.0175230963064218}{z}\\right)}{z \\left(1 - \\frac{1}{z}\\right) \\left(1 - \\frac{0.818730753077982}{z}\\right) \\left(\\frac{0.25 K \\left(0.0187307530779818 + \\frac{0.0175230963064218}{z}\\right)}{z \\left(1 - \\frac{1}{z}\\right) \\left(1 - \\frac{0.818730753077982}{z}\\right)} + 1\\right)}$"
     },
     "execution_count": 12,
     "metadata": {},
     "output_type": "execute_result"
    }
   ],
   "source": [
    "tfz = Hz_eq.rhs*K/(Hz_eq.rhs*K + 1)\n",
    "tfz"
   ]
  },
  {
   "cell_type": "code",
   "execution_count": 13,
   "id": "eed9d95e",
   "metadata": {},
   "outputs": [
    {
     "data": {
      "text/plain": "0.25*K*(0.0187307530779818*z + 0.0175230963064218)/(0.25*K*(0.0187307530779818*z + 0.0175230963064218) + (z - 1)*(z - 0.818730753077982))",
      "text/latex": "$\\displaystyle \\frac{0.25 K \\left(0.0187307530779818 z + 0.0175230963064218\\right)}{0.25 K \\left(0.0187307530779818 z + 0.0175230963064218\\right) + \\left(z - 1\\right) \\left(z - 0.818730753077982\\right)}$"
     },
     "execution_count": 13,
     "metadata": {},
     "output_type": "execute_result"
    }
   ],
   "source": [
    "tfz = sp.simplify(tfz)\n",
    "tfz"
   ]
  },
  {
   "cell_type": "code",
   "execution_count": 14,
   "id": "91f1a699",
   "metadata": {},
   "outputs": [
    {
     "data": {
      "text/plain": "0.25*(0.0187307530779818*z + 0.0175230963064218)/(0.00468268826949544*z + (z - 1)*(z - 0.818730753077982) + 0.00438077407660545)",
      "text/latex": "$\\displaystyle \\frac{0.25 \\cdot \\left(0.0187307530779818 z + 0.0175230963064218\\right)}{0.00468268826949544 z + \\left(z - 1\\right) \\left(z - 0.818730753077982\\right) + 0.00438077407660545}$"
     },
     "execution_count": 14,
     "metadata": {},
     "output_type": "execute_result"
    }
   ],
   "source": [
    "tfz_ksubs = tfz.subs(K, 1)\n",
    "tfz_ksubs"
   ]
  },
  {
   "cell_type": "code",
   "execution_count": 15,
   "id": "95bdbefc",
   "metadata": {},
   "outputs": [
    {
     "data": {
      "text/plain": "(0.00468268826949544*z + 0.00438077407660545)/(z**2 - 1.81404806480849*z + 0.823111527154587)",
      "text/latex": "$\\displaystyle \\frac{0.00468268826949544 z + 0.00438077407660545}{z^{2} - 1.81404806480849 z + 0.823111527154587}$"
     },
     "execution_count": 15,
     "metadata": {},
     "output_type": "execute_result"
    }
   ],
   "source": [
    "#2.3\n",
    "tfz_simp = tfz_ksubs.expand().simplify()\n",
    "tfz_simp"
   ]
  },
  {
   "cell_type": "code",
   "execution_count": 16,
   "id": "5418a061",
   "metadata": {},
   "outputs": [],
   "source": [
    "import sys\n",
    "import os\n",
    "sys.path.append(os.path.split(os.getcwd())[0])"
   ]
  },
  {
   "cell_type": "code",
   "execution_count": 17,
   "id": "25416585",
   "metadata": {},
   "outputs": [
    {
     "name": "stdout",
     "output_type": "stream",
     "text": [
      "['C:\\\\Users\\\\luiz\\\\PycharmProjects\\\\college_crap\\\\controle_de_processos', 'C:\\\\Users\\\\luiz\\\\PycharmProjects\\\\college_crap', 'C:\\\\Program Files\\\\Python310\\\\python310.zip', 'C:\\\\Program Files\\\\Python310\\\\DLLs', 'C:\\\\Program Files\\\\Python310\\\\lib', 'C:\\\\Program Files\\\\Python310', '', 'C:\\\\Users\\\\luiz\\\\AppData\\\\Roaming\\\\Python\\\\Python310\\\\site-packages', 'C:\\\\Program Files\\\\Python310\\\\lib\\\\site-packages', 'C:\\\\Program Files\\\\Python310\\\\lib\\\\site-packages\\\\win32', 'C:\\\\Program Files\\\\Python310\\\\lib\\\\site-packages\\\\win32\\\\lib', 'C:\\\\Program Files\\\\Python310\\\\lib\\\\site-packages\\\\Pythonwin', 'C:\\\\Users\\\\luiz\\\\PycharmProjects\\\\college_crap']\n"
     ]
    }
   ],
   "source": [
    "print(sys.path)"
   ]
  },
  {
   "cell_type": "code",
   "execution_count": 18,
   "id": "6aa466bc",
   "metadata": {},
   "outputs": [],
   "source": [
    "from college_crap_lib.ctrl.control_ii import rutiruti_jury, eval_rutiruti_jury"
   ]
  },
  {
   "cell_type": "code",
   "execution_count": 19,
   "id": "2be620a9",
   "metadata": {
    "scrolled": true
   },
   "outputs": [
    {
     "name": "stdout",
     "output_type": "stream",
     "text": [
      "jury_result=[0.823111527154587, -0.9950285749329647]\n",
      "Stable!\n"
     ]
    }
   ],
   "source": [
    "eval_rutiruti_jury([1, -1.81404806480849, 0.823111527154587])\n"
   ]
  },
  {
   "cell_type": "code",
   "execution_count": 20,
   "id": "790d4c53",
   "metadata": {
    "scrolled": true
   },
   "outputs": [
    {
     "data": {
      "text/plain": "K*(0.00468268826949544*z + 0.00438077407660545)/(0.00468268826949544*K*z + 0.00438077407660545*K + z**2 - 1.81873075307798*z + 0.818730753077982)",
      "text/latex": "$\\displaystyle \\frac{K \\left(0.00468268826949544 z + 0.00438077407660545\\right)}{0.00468268826949544 K z + 0.00438077407660545 K + z^{2} - 1.81873075307798 z + 0.818730753077982}$"
     },
     "execution_count": 20,
     "metadata": {},
     "output_type": "execute_result"
    }
   ],
   "source": [
    "tfz.expand().simplify()"
   ]
  },
  {
   "cell_type": "code",
   "execution_count": 21,
   "id": "43dbaf04",
   "metadata": {},
   "outputs": [
    {
     "data": {
      "text/plain": "0.00438077407660545*K + 0.818730753077982",
      "text/latex": "$\\displaystyle 0.00438077407660545 K + 0.818730753077982$"
     },
     "metadata": {},
     "output_type": "display_data"
    },
    {
     "data": {
      "text/plain": "<Figure size 640x480 with 1 Axes>",
      "image/png": "[encoded data removed]"
     },
     "metadata": {},
     "output_type": "display_data"
    },
    {
     "data": {
      "text/plain": "(2.05137993798301e-5*K**2 - 0.00881627591159113*K + 0.32967995396436)/(1.91911815102583e-5*K**2 + 0.00717334891760736*K - 0.32967995396436)",
      "text/latex": "$\\displaystyle \\frac{2.05137993798301 \\cdot 10^{-5} K^{2} - 0.00881627591159113 K + 0.32967995396436}{1.91911815102583 \\cdot 10^{-5} K^{2} + 0.00717334891760736 K - 0.32967995396436}$"
     },
     "metadata": {},
     "output_type": "display_data"
    },
    {
     "data": {
      "text/plain": "<Figure size 640x480 with 1 Axes>",
      "image/png": "[encoded data removed]"
     },
     "metadata": {},
     "output_type": "display_data"
    },
    {
     "data": {
      "text/plain": "<sympy.plotting.plot.Plot at 0x1dc1ae16980>"
     },
     "execution_count": 21,
     "metadata": {},
     "output_type": "execute_result"
    }
   ],
   "source": [
    "general_stability = rutiruti_jury([1, 0.00468268826949544*K-1.81873075307798, 0.00438077407660545*K + 0.818730753077982])\n",
    "term1, term2 = general_stability\n",
    "\n",
    "range1 = (-450, 50)\n",
    "simp_term = term1.expand().simplify()\n",
    "display(simp_term)\n",
    "sp.plot(simp_term, (K, *range1), xlim=[*range1], ylim=[-1,1])  # range=[-100, 100], xlim=[-100, 100], ylim=[-1,1]\n",
    "\n",
    "range2 = (-5, 10000)\n",
    "simp_term = term2.expand().simplify()\n",
    "display(simp_term)\n",
    "sp.plot(simp_term, (K, *range2), xlim=[*range2], ylim=[-1,1])  # range=[-100, 100], xlim=[-100, 100], ylim=[-1,1]\n",
    "    "
   ]
  },
  {
   "cell_type": "code",
   "execution_count": 22,
   "id": "7daba103",
   "metadata": {},
   "outputs": [
    {
     "data": {
      "text/plain": "-0.999999999999999",
      "text/latex": "$\\displaystyle -0.999999999999999$"
     },
     "execution_count": 22,
     "metadata": {},
     "output_type": "execute_result"
    }
   ],
   "source": [
    "term2.subs(K, 0)"
   ]
  },
  {
   "cell_type": "code",
   "execution_count": 23,
   "id": "42ae3542",
   "metadata": {},
   "outputs": [
    {
     "data": {
      "text/plain": "([[-415.161960255040], [41.3783600231854]],\n [[6.40895994461219e-14], [12047.9977153027]])"
     },
     "execution_count": 23,
     "metadata": {},
     "output_type": "execute_result"
    }
   ],
   "source": [
    "conditions_t1 = [sp.solve(term1+1, K), sp.solve(term1-1, K)]\n",
    "conditions_t2 = [sp.solve(term2+1, K), sp.solve(term2-1, K)]\n",
    "conditions = (conditions_t1, conditions_t2)\n",
    "conditions"
   ]
  },
  {
   "cell_type": "code",
   "execution_count": 24,
   "id": "85c831f3",
   "metadata": {},
   "outputs": [
    {
     "data": {
      "text/plain": "[[6.40895994461219e-14], [41.3783600231854]]"
     },
     "execution_count": 24,
     "metadata": {},
     "output_type": "execute_result"
    }
   ],
   "source": [
    "# 2.4\n",
    "final_condition = []\n",
    "for cond_low, cond_high in conditions:\n",
    "    if final_condition:\n",
    "        if cond_low>final_condition[0]:\n",
    "            final_condition[0] = cond_low\n",
    "        if cond_high<final_condition[1]:\n",
    "            final_condition[1] = cond_high\n",
    "    else:\n",
    "        final_condition = [cond_low, cond_high]\n",
    "final_condition"
   ]
  },
  {
   "cell_type": "code",
   "execution_count": 25,
   "id": "89aac2fb",
   "metadata": {
    "scrolled": true
   },
   "outputs": [
    {
     "data": {
      "text/plain": "[-0.00234134413474772*K - 0.0929464827629851*sqrt(0.000634548151576261*K**2 - K + 0.950872635993396) + 0.90936537653899,\n -0.00234134413474772*K + 0.0929464827629851*sqrt(0.000634548151576261*K**2 - K + 0.950872635993396) + 0.90936537653899]"
     },
     "execution_count": 25,
     "metadata": {},
     "output_type": "execute_result"
    }
   ],
   "source": [
    "tfz_solve_by_poles = sp.solve(1/tfz.expand().simplify().args[1], z)\n",
    "tfz_solve_by_poles"
   ]
  },
  {
   "cell_type": "code",
   "execution_count": 26,
   "id": "acda8f01",
   "metadata": {},
   "outputs": [
    {
     "name": "stdout",
     "output_type": "stream",
     "text": [
      "val = -1:\n"
     ]
    },
    {
     "data": {
      "text/plain": "[-1.59955339837463e+17]"
     },
     "metadata": {},
     "output_type": "display_data"
    },
    {
     "name": "stdout",
     "output_type": "stream",
     "text": [
      "val = 1:\n"
     ]
    },
    {
     "data": {
      "text/plain": "[]"
     },
     "metadata": {},
     "output_type": "display_data"
    },
    {
     "name": "stdout",
     "output_type": "stream",
     "text": [
      "val = -1:\n"
     ]
    },
    {
     "data": {
      "text/plain": "[12047.9977153016]"
     },
     "metadata": {},
     "output_type": "display_data"
    },
    {
     "name": "stdout",
     "output_type": "stream",
     "text": [
      "val = 1:\n"
     ]
    },
    {
     "data": {
      "text/plain": "[-2.19946811597878e-13, 4.80185838829636e+18]"
     },
     "metadata": {},
     "output_type": "display_data"
    }
   ],
   "source": [
    "for pl_slv in tfz_solve_by_poles:\n",
    "    for val in [-1, 1]:\n",
    "        print(f'{val = }:')\n",
    "        display(sp.solve(pl_slv-val, K))"
   ]
  },
  {
   "cell_type": "code",
   "execution_count": 27,
   "id": "00f4ec39",
   "metadata": {},
   "outputs": [
    {
     "data": {
      "text/plain": "Abs(0.00234134413474772*K + 0.0929464827629851*sqrt(0.000634548151576261*K**2 - K + 0.950872635993396) - 0.90936537653899)",
      "text/latex": "$\\displaystyle \\left|{0.00234134413474772 K + 0.0929464827629851 \\sqrt{0.000634548151576261 K^{2} - K + 0.950872635993396} - 0.90936537653899}\\right|$"
     },
     "metadata": {},
     "output_type": "display_data"
    },
    {
     "data": {
      "text/plain": "<Figure size 640x480 with 1 Axes>",
      "image/png": "[encoded data removed]"
     },
     "metadata": {},
     "output_type": "display_data"
    },
    {
     "data": {
      "text/plain": "Abs(-0.00234134413474772*K + 0.0929464827629851*sqrt(0.000634548151576261*K**2 - K + 0.950872635993396) + 0.90936537653899)",
      "text/latex": "$\\displaystyle \\left|{- 0.00234134413474772 K + 0.0929464827629851 \\sqrt{0.000634548151576261 K^{2} - K + 0.950872635993396} + 0.90936537653899}\\right|$"
     },
     "metadata": {},
     "output_type": "display_data"
    },
    {
     "data": {
      "text/plain": "<Figure size 640x480 with 1 Axes>",
      "image/png": "[encoded data removed]"
     },
     "metadata": {},
     "output_type": "display_data"
    },
    {
     "data": {
      "text/plain": "<sympy.plotting.plot.Plot at 0x1dc2d4fc7c0>"
     },
     "execution_count": 27,
     "metadata": {},
     "output_type": "execute_result"
    }
   ],
   "source": [
    "range_val = (-500, 50)\n",
    "simp_term = tfz_solve_by_poles[0].expand().simplify()\n",
    "display(abs(simp_term))\n",
    "sp.plot(abs(simp_term) , (K, *range_val), xlim=[*range_val], ylim=[-1,1]) \n",
    "\n",
    "range_val = (-5, 50)\n",
    "simp_term = tfz_solve_by_poles[1].expand().simplify()\n",
    "display(abs(simp_term))\n",
    "sp.plot(abs(simp_term) , (K, *range_val), xlim=[*range_val], ylim=[-1,1]) "
   ]
  },
  {
   "cell_type": "code",
   "execution_count": 28,
   "id": "46cee9b5",
   "metadata": {},
   "outputs": [
    {
     "data": {
      "text/plain": "0.813370267014333 - 0.580319997032531*I",
      "text/latex": "$\\displaystyle 0.813370267014333 - 0.580319997032531 i$"
     },
     "execution_count": 28,
     "metadata": {},
     "output_type": "execute_result"
    }
   ],
   "source": [
    "tfz_solve_by_poles[0].subs(K, 41)"
   ]
  },
  {
   "cell_type": "code",
   "execution_count": 29,
   "id": "96c463f5",
   "metadata": {},
   "outputs": [],
   "source": [
    "v1, v2 = sp.symbols('v1, v2')"
   ]
  },
  {
   "cell_type": "code",
   "execution_count": 30,
   "id": "7ca8bbae",
   "metadata": {},
   "outputs": [
    {
     "data": {
      "text/plain": "0.00468268826949544*z + 0.00438077407660545",
      "text/latex": "$\\displaystyle 0.00468268826949544 z + 0.00438077407660545$"
     },
     "metadata": {},
     "output_type": "display_data"
    },
    {
     "data": {
      "text/plain": "z**2 - 1.81404806480849*z + 0.823111527154587",
      "text/latex": "$\\displaystyle z^{2} - 1.81404806480849 z + 0.823111527154587$"
     },
     "metadata": {},
     "output_type": "display_data"
    }
   ],
   "source": [
    "tfz_simp_num = tfz_simp.args[1]\n",
    "tfz_simp_den = 1/tfz_simp.args[0]\n",
    "\n",
    "display(tfz_simp_num)\n",
    "display(tfz_simp_den)"
   ]
  },
  {
   "cell_type": "code",
   "execution_count": 31,
   "id": "a09c7d1e",
   "metadata": {},
   "outputs": [
    {
     "data": {
      "text/plain": "[(0.907024032404245 - 0.0204678234243438*I,\n  0.907024032404245 + 0.0204678234243438*I),\n (0.907024032404245 + 0.0204678234243438*I,\n  0.907024032404245 - 0.0204678234243438*I)]"
     },
     "execution_count": 31,
     "metadata": {},
     "output_type": "execute_result"
    }
   ],
   "source": [
    "sp.solve(tfz_simp_den - ((z - v1)*(z - v2)), (v1, v2))"
   ]
  },
  {
   "cell_type": "code",
   "execution_count": 32,
   "id": "5d322d4f",
   "metadata": {},
   "outputs": [
    {
     "data": {
      "text/plain": "(3 - 2.5/z)/(1 - 1/z)",
      "text/latex": "$\\displaystyle \\frac{3 - \\frac{2.5}{z}}{1 - \\frac{1}{z}}$"
     },
     "execution_count": 32,
     "metadata": {},
     "output_type": "execute_result"
    }
   ],
   "source": [
    "# q1\n",
    "gc = (3-2.5*(z**-1))/(1-(z**-1))\n",
    "gc"
   ]
  },
  {
   "cell_type": "code",
   "execution_count": 33,
   "outputs": [
    {
     "data": {
      "text/plain": "2"
     },
     "execution_count": 33,
     "metadata": {},
     "output_type": "execute_result"
    }
   ],
   "source": [
    "a"
   ],
   "metadata": {
    "collapsed": false,
    "pycharm": {
     "name": "#%%\n"
    }
   }
  },
  {
   "cell_type": "code",
   "execution_count": 34,
   "outputs": [],
   "source": [
    "a, b = sp.symbols('a, b')"
   ],
   "metadata": {
    "collapsed": false,
    "pycharm": {
     "name": "#%%\n"
    }
   }
  },
  {
   "cell_type": "code",
   "execution_count": 35,
   "outputs": [],
   "source": [
    "eq = a*(z-4) + b*(z-2) - 8"
   ],
   "metadata": {
    "collapsed": false,
    "pycharm": {
     "name": "#%%\n"
    }
   }
  },
  {
   "cell_type": "code",
   "execution_count": 36,
   "outputs": [
    {
     "data": {
      "text/plain": "{a: -4, b: 4}"
     },
     "execution_count": 36,
     "metadata": {},
     "output_type": "execute_result"
    }
   ],
   "source": [
    "sp.solve(eq, (a,b))"
   ],
   "metadata": {
    "collapsed": false,
    "pycharm": {
     "name": "#%%\n"
    }
   }
  },
  {
   "cell_type": "code",
   "execution_count": 37,
   "outputs": [
    {
     "data": {
      "text/plain": "4/4**k - 4/2**k",
      "text/latex": "$\\displaystyle 4 \\cdot 4^{- k} - 4 \\cdot 2^{- k}$"
     },
     "execution_count": 37,
     "metadata": {},
     "output_type": "execute_result"
    }
   ],
   "source": [
    "eq = 4*((4**-k)-(2**-k))\n",
    "eq"
   ],
   "metadata": {
    "collapsed": false,
    "pycharm": {
     "name": "#%%\n"
    }
   }
  },
  {
   "cell_type": "code",
   "execution_count": 38,
   "outputs": [
    {
     "data": {
      "text/plain": "0",
      "text/latex": "$\\displaystyle 0$"
     },
     "metadata": {},
     "output_type": "display_data"
    },
    {
     "data": {
      "text/plain": "-1",
      "text/latex": "$\\displaystyle -1$"
     },
     "metadata": {},
     "output_type": "display_data"
    },
    {
     "data": {
      "text/plain": "-3/4",
      "text/latex": "$\\displaystyle - \\frac{3}{4}$"
     },
     "metadata": {},
     "output_type": "display_data"
    }
   ],
   "source": [
    "for inpt in [0,1,2]:\n",
    "    display(eq.subs(k, inpt))"
   ],
   "metadata": {
    "collapsed": false,
    "pycharm": {
     "name": "#%%\n"
    }
   }
  },
  {
   "cell_type": "code",
   "execution_count": 38,
   "outputs": [],
   "source": [],
   "metadata": {
    "collapsed": false,
    "pycharm": {
     "name": "#%%\n"
    }
   }
  },
  {
   "cell_type": "code",
   "execution_count": 38,
   "outputs": [],
   "source": [],
   "metadata": {
    "collapsed": false,
    "pycharm": {
     "name": "#%%\n"
    }
   }
  },
  {
   "cell_type": "code",
   "execution_count": 38,
   "outputs": [],
   "source": [],
   "metadata": {
    "collapsed": false,
    "pycharm": {
     "name": "#%%\n"
    }
   }
  },
  {
   "cell_type": "code",
   "execution_count": 38,
   "outputs": [],
   "source": [],
   "metadata": {
    "collapsed": false,
    "pycharm": {
     "name": "#%%\n"
    }
   }
  }
 ],
 "metadata": {
  "kernelspec": {
   "display_name": "Python 3 (ipykernel)",
   "language": "python",
   "name": "python3"
  },
  "language_info": {
   "codemirror_mode": {
    "name": "ipython",
    "version": 3
   },
   "file_extension": ".py",
   "mimetype": "text/x-python",
   "name": "python",
   "nbconvert_exporter": "python",
   "pygments_lexer": "ipython3",
   "version": "3.9.12"
  }
 },
 "nbformat": 4,
 "nbformat_minor": 5
}