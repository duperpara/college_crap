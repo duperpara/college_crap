{
 "cells": [
  {
   "cell_type": "code",
   "execution_count": 11,
   "id": "732ff3c4",
   "metadata": {},
   "outputs": [],
   "source": [
    "import sympy as sp"
   ]
  },
  {
   "cell_type": "code",
   "execution_count": 12,
   "id": "3bda7306",
   "metadata": {},
   "outputs": [],
   "source": [
    "s, z, t, k, K, Kp, T, a = sp.symbols('s, z, t, k, K, Kp, T, a')\n",
    "Uz = sp.Function('U')(z)\n",
    "Ez = sp.Function('E')(z)\n",
    "Ys = sp.Function('Y')(s)\n",
    "Gs = sp.Function('G')(s)\n",
    "Gc = sp.Function('Gc')(s)"
   ]
  },
  {
   "cell_type": "code",
   "execution_count": 13,
   "id": "340e1a91",
   "metadata": {},
   "outputs": [
    {
     "name": "stdout",
     "output_type": "stream",
     "text": [
      "considerando G(s) como:\n"
     ]
    },
    {
     "data": {
      "text/plain": "Eq(G(s), 1/(s*(s + 1)))",
      "text/latex": "$\\displaystyle G{\\left(s \\right)} = \\frac{1}{s \\left(s + 1\\right)}$"
     },
     "metadata": {},
     "output_type": "display_data"
    }
   ],
   "source": [
    "print('considerando G(s) como:')\n",
    "Gs_eq = sp.Eq(Gs, 1/(s*(s+1)))\n",
    "display(Gs_eq)\n",
    "# Gc_eq = sp.Eq(Gc, Kp)\n",
    "# display(Gc_eq)\n",
    "# display(sp.Eq(Ys, Gs*Gc))\n",
    "# Ys_eq = sp.Eq(Ys, Gs_eq.rhs*Gc_eq.rhs)\n",
    "# display(Ys_eq)"
   ]
  },
  {
   "cell_type": "code",
   "execution_count": 14,
   "id": "f7a5fb5a",
   "metadata": {},
   "outputs": [
    {
     "name": "stdout",
     "output_type": "stream",
     "text": [
      "temos G(s)*(1/s):\n"
     ]
    },
    {
     "data": {
      "text/plain": "Eq(Gs_1, 1/(s**2*(s + 1)))",
      "text/latex": "$\\displaystyle Gs_{1} = \\frac{1}{s^{2} \\left(s + 1\\right)}$"
     },
     "execution_count": 14,
     "metadata": {},
     "output_type": "execute_result"
    }
   ],
   "source": [
    "print('temos G(s)*(1/s):')\n",
    "Gs_1 = Gs_eq.rhs*(1/s)\n",
    "sp.Eq(sp.Symbol('Gs_1'), Gs_1)"
   ]
  },
  {
   "cell_type": "code",
   "execution_count": 15,
   "id": "88fab8cc",
   "metadata": {},
   "outputs": [
    {
     "name": "stdout",
     "output_type": "stream",
     "text": [
      "que se enquadra na transformada:\n"
     ]
    },
    {
     "data": {
      "text/plain": "Eq(G(z), (T*a - 1 + exp(-T*a) + (-T*a*exp(-T*a) + 1 - exp(-T*a))/z)/(z*(1 - 1/z)**2*(1 - exp(-T*a)/z)))",
      "text/latex": "$\\displaystyle G{\\left(z \\right)} = \\frac{T a - 1 + e^{- T a} + \\frac{- T a e^{- T a} + 1 - e^{- T a}}{z}}{z \\left(1 - \\frac{1}{z}\\right)^{2} \\cdot \\left(1 - \\frac{e^{- T a}}{z}\\right)}$"
     },
     "metadata": {},
     "output_type": "display_data"
    },
    {
     "name": "stdout",
     "output_type": "stream",
     "text": [
      "Sendo neste caso a=1 e T o tempo de amostragem\n"
     ]
    }
   ],
   "source": [
    "print('que se enquadra na transformada:')\n",
    "Gz = sp.Function('G')(z)\n",
    "display(sp.Eq(Gz, (\n",
    "    (\n",
    "        (\n",
    "            (a*T-1+sp.exp(-a*T)) +\n",
    "            ( 1 - sp.exp(-a*T) - a*T*sp.exp(-a*T) )*(z**-1)\n",
    "        )*(z**-1)\n",
    "    )\n",
    "    /\n",
    "    (\n",
    "        ( (1 - (z**-1))**2 ) *\n",
    "        ( 1 - sp.exp(-a*T)*(z**-1) )\n",
    "    )\n",
    ")))\n",
    "print('Sendo neste caso a=1 e T o tempo de amostragem')"
   ]
  },
  {
   "cell_type": "code",
   "execution_count": 16,
   "id": "45097b18",
   "metadata": {
    "scrolled": true
   },
   "outputs": [
    {
     "name": "stdout",
     "output_type": "stream",
     "text": [
      "logo H(z) será:\n"
     ]
    },
    {
     "data": {
      "text/plain": "Eq(Hz(z), Kp*G(z))",
      "text/latex": "$\\displaystyle \\operatorname{Hz}{\\left(z \\right)} = Kp G{\\left(z \\right)}$"
     },
     "metadata": {},
     "output_type": "display_data"
    },
    {
     "name": "stdout",
     "output_type": "stream",
     "text": [
      "fazendo as devidas substituições, obtemos:\n"
     ]
    },
    {
     "data": {
      "text/plain": "Eq(H(z), Kp*(T - 1 + exp(-T) + (-T*exp(-T) + 1 - exp(-T))/z)/(z*(1 - 1/z)*(1 - exp(-T)/z)))",
      "text/latex": "$\\displaystyle H{\\left(z \\right)} = \\frac{Kp \\left(T - 1 + e^{- T} + \\frac{- T e^{- T} + 1 - e^{- T}}{z}\\right)}{z \\left(1 - \\frac{1}{z}\\right) \\left(1 - \\frac{e^{- T}}{z}\\right)}$"
     },
     "metadata": {},
     "output_type": "display_data"
    },
    {
     "name": "stdout",
     "output_type": "stream",
     "text": [
      "simplificando:\n"
     ]
    },
    {
     "data": {
      "text/plain": "Eq(H(z), Kp*(T*z*exp(T) - T - z*exp(T) + z + exp(T) - 1)/(z**2*exp(T) - z*exp(T) - z + 1))",
      "text/latex": "$\\displaystyle H{\\left(z \\right)} = \\frac{Kp \\left(T z e^{T} - T - z e^{T} + z + e^{T} - 1\\right)}{z^{2} e^{T} - z e^{T} - z + 1}$"
     },
     "metadata": {},
     "output_type": "display_data"
    },
    {
     "name": "stdout",
     "output_type": "stream",
     "text": [
      "consideranto T = 0.1 para testes:\n"
     ]
    },
    {
     "data": {
      "text/plain": "Eq(H_T1(z), Kp*(0.0187307530779818 + 0.0175230963064218/z)/(z*(1 - 1/z)*(1 - 0.818730753077982/z)))",
      "text/latex": "$\\displaystyle H_{T1}{\\left(z \\right)} = \\frac{Kp \\left(0.0187307530779818 + \\frac{0.0175230963064218}{z}\\right)}{z \\left(1 - \\frac{1}{z}\\right) \\left(1 - \\frac{0.818730753077982}{z}\\right)}$"
     },
     "metadata": {},
     "output_type": "display_data"
    },
    {
     "name": "stdout",
     "output_type": "stream",
     "text": [
      "simplificando:\n"
     ]
    },
    {
     "data": {
      "text/plain": "Eq(H_T1(z), Kp*(0.0187307530779818*z + 0.0175230963064218)/(z**2 - 1.81873075307798*z + 0.818730753077982))",
      "text/latex": "$\\displaystyle H_{T1}{\\left(z \\right)} = \\frac{Kp \\left(0.0187307530779818 z + 0.0175230963064218\\right)}{z^{2} - 1.81873075307798 z + 0.818730753077982}$"
     },
     "metadata": {},
     "output_type": "display_data"
    }
   ],
   "source": [
    "a, T = sp.symbols('a, T')\n",
    "print('logo H(z) será:')\n",
    "display(sp.Eq(sp.Function(\"Hz\")(z), (Kp*Gz)))\n",
    "\n",
    "print('fazendo as devidas substituições, obtemos:')\n",
    "a = 1\n",
    "Hz_eq = sp.Eq(sp.Function(\"H\")(z), (Kp*\n",
    "    (\n",
    "        (\n",
    "            (a*T-1+sp.exp(-a*T)) +\n",
    "            ( 1 - sp.exp(-a*T) - a*T*sp.exp(-a*T) )*(z**-1)\n",
    "        )*(z**-1)\n",
    "    )\n",
    "    /\n",
    "    ( \n",
    "        ( (1 - (z**-1))**2 ) * \n",
    "        ( 1 - sp.exp(-a*T)*(z**-1) ) \n",
    "    )\n",
    ") * (1-(z**-1)) )\n",
    "display(Hz_eq)\n",
    "\n",
    "print('simplificando:')\n",
    "display(sp.Eq(sp.Function(\"H\")(z), Hz_eq.rhs.expand().simplify()))\n",
    "\n",
    "print('consideranto T = 0.1 para testes:')\n",
    "\n",
    "T=0.1\n",
    "H1z_eq = sp.Eq(sp.Function(\"H_T1\")(z), (Kp*\n",
    "    (\n",
    "        (\n",
    "            (a*T-1+sp.exp(-a*T)) +\n",
    "            ( 1 - sp.exp(-a*T) - a*T*sp.exp(-a*T) )*(z**-1)\n",
    "        )*(z**-1)\n",
    "    )\n",
    "    /\n",
    "    (\n",
    "        ( (1 - (z**-1))**2 ) *\n",
    "        ( 1 - sp.exp(-a*T)*(z**-1) )\n",
    "    )\n",
    ") * (1-(z**-1)) )\n",
    "display(H1z_eq)\n",
    "print('simplificando:')\n",
    "display(sp.Eq(sp.Function(\"H_T1\")(z), H1z_eq.rhs.simplify().expand().simplify()))"
   ]
  },
  {
   "cell_type": "code",
   "execution_count": 17,
   "id": "9af23cfc",
   "metadata": {},
   "outputs": [
    {
     "name": "stdout",
     "output_type": "stream",
     "text": [
      "para malha fechada temos:\n"
     ]
    },
    {
     "data": {
      "text/plain": "Eq(GMF(z), Kp*(T - 1 + exp(-T) + (-T*exp(-T) + 1 - exp(-T))/z)/(z*(1 - 1/z)*(1 - exp(-T)/z)*(Kp*(T - 1 + exp(-T) + (-T*exp(-T) + 1 - exp(-T))/z)/(z*(1 - 1/z)*(1 - exp(-T)/z)) + 1)))",
      "text/latex": "$\\displaystyle \\operatorname{GMF}{\\left(z \\right)} = \\frac{Kp \\left(T - 1 + e^{- T} + \\frac{- T e^{- T} + 1 - e^{- T}}{z}\\right)}{z \\left(1 - \\frac{1}{z}\\right) \\left(1 - \\frac{e^{- T}}{z}\\right) \\left(\\frac{Kp \\left(T - 1 + e^{- T} + \\frac{- T e^{- T} + 1 - e^{- T}}{z}\\right)}{z \\left(1 - \\frac{1}{z}\\right) \\left(1 - \\frac{e^{- T}}{z}\\right)} + 1\\right)}$"
     },
     "metadata": {},
     "output_type": "display_data"
    },
    {
     "data": {
      "text/plain": "Eq(GMF_T1(z), Kp*(0.0187307530779818 + 0.0175230963064218/z)/(z*(1 - 1/z)*(1 - 0.818730753077982/z)*(Kp*(0.0187307530779818 + 0.0175230963064218/z)/(z*(1 - 1/z)*(1 - 0.818730753077982/z)) + 1)))",
      "text/latex": "$\\displaystyle \\operatorname{GMF}_{T1}{\\left(z \\right)} = \\frac{Kp \\left(0.0187307530779818 + \\frac{0.0175230963064218}{z}\\right)}{z \\left(1 - \\frac{1}{z}\\right) \\left(1 - \\frac{0.818730753077982}{z}\\right) \\left(\\frac{Kp \\left(0.0187307530779818 + \\frac{0.0175230963064218}{z}\\right)}{z \\left(1 - \\frac{1}{z}\\right) \\left(1 - \\frac{0.818730753077982}{z}\\right)} + 1\\right)}$"
     },
     "metadata": {},
     "output_type": "display_data"
    },
    {
     "name": "stdout",
     "output_type": "stream",
     "text": [
      "simplificando:\n"
     ]
    },
    {
     "data": {
      "text/plain": "Eq(GMF(z), Kp*(T*z*exp(T) - T - z*exp(T) + z + exp(T) - 1)/(Kp*T*z*exp(T) - Kp*T - Kp*z*exp(T) + Kp*z + Kp*exp(T) - Kp + z**2*exp(T) - z*exp(T) - z + 1))",
      "text/latex": "$\\displaystyle \\operatorname{GMF}{\\left(z \\right)} = \\frac{Kp \\left(T z e^{T} - T - z e^{T} + z + e^{T} - 1\\right)}{Kp T z e^{T} - Kp T - Kp z e^{T} + Kp z + Kp e^{T} - Kp + z^{2} e^{T} - z e^{T} - z + 1}$"
     },
     "metadata": {},
     "output_type": "display_data"
    },
    {
     "data": {
      "text/plain": "Eq(GMF_T1(z), Kp*(0.0187307530779818*z + 0.0175230963064218)/(0.0187307530779818*Kp*z + 0.0175230963064218*Kp + z**2 - 1.81873075307798*z + 0.818730753077982))",
      "text/latex": "$\\displaystyle \\operatorname{GMF}_{T1}{\\left(z \\right)} = \\frac{Kp \\left(0.0187307530779818 z + 0.0175230963064218\\right)}{0.0187307530779818 Kp z + 0.0175230963064218 Kp + z^{2} - 1.81873075307798 z + 0.818730753077982}$"
     },
     "metadata": {},
     "output_type": "display_data"
    }
   ],
   "source": [
    "print('para malha fechada temos:')\n",
    "gmf = Hz_eq.rhs/(Hz_eq.rhs + 1)\n",
    "display(sp.Eq(sp.Function('GMF')(z), gmf))\n",
    "\n",
    "gmf1 = H1z_eq.rhs/(H1z_eq.rhs + 1)\n",
    "display(sp.Eq(sp.Function('GMF_T1')(z), gmf1))\n",
    "\n",
    "print('simplificando:')\n",
    "\n",
    "gmf = sp.simplify(sp.expand(sp.simplify(gmf)))\n",
    "display(sp.Eq(sp.Function('GMF')(z), gmf))\n",
    "\n",
    "gmf1 = sp.simplify(sp.expand(sp.simplify(gmf1)))\n",
    "display(sp.Eq(sp.Function('GMF_T1')(z), gmf1))\n",
    "#\n",
    "# gmf1_high = (gmf1.args[0]*gmf1.args[2]*sp.exp(1)).evalf().simplify()\n",
    "# # display(gmf1_high)\n",
    "# gmf1_low = ((1/gmf1.args[1])/sp.exp(1)).evalf().simplify()\n",
    "# # display(gmf1_low)\n",
    "#\n",
    "# gmf1 = gmf1_high/gmf1_low\n",
    "# display(sp.Eq(sp.Function('GMF_T1')(z), gmf1))\n"
   ]
  },
  {
   "cell_type": "code",
   "execution_count": 18,
   "id": "91f1a699",
   "metadata": {},
   "outputs": [
    {
     "name": "stdout",
     "output_type": "stream",
     "text": [
      "para Kp = 5 temos:\n"
     ]
    },
    {
     "data": {
      "text/plain": "Eq(GMF_Kp5(z), 5*(T*z*exp(T) - T - z*exp(T) + z + exp(T) - 1)/(5*T*z*exp(T) - 5*T + z**2*exp(T) - 6*z*exp(T) + 4*z + 5*exp(T) - 4))",
      "text/latex": "$\\displaystyle \\operatorname{GMF}_{Kp5}{\\left(z \\right)} = \\frac{5 \\left(T z e^{T} - T - z e^{T} + z + e^{T} - 1\\right)}{5 T z e^{T} - 5 T + z^{2} e^{T} - 6 z e^{T} + 4 z + 5 e^{T} - 4}$"
     },
     "metadata": {},
     "output_type": "display_data"
    },
    {
     "data": {
      "text/plain": "Eq(GMF_T1,Kp5(z), 5*(0.0187307530779818*z + 0.0175230963064218)/(z**2 - 1.72507698768807*z + 0.906346234610091))",
      "text/latex": "$\\displaystyle \\operatorname{GMF}_{T1,Kp5}{\\left(z \\right)} = \\frac{5 \\cdot \\left(0.0187307530779818 z + 0.0175230963064218\\right)}{z^{2} - 1.72507698768807 z + 0.906346234610091}$"
     },
     "metadata": {},
     "output_type": "display_data"
    },
    {
     "name": "stdout",
     "output_type": "stream",
     "text": [
      "5*(0.0187307530779818*z + 0.0175230963064218)/(z**2 - 1.72507698768807*z + 0.906346234610091)\n"
     ]
    }
   ],
   "source": [
    "print('para Kp = 5 temos:')\n",
    "gmf_kp5 = gmf.subs(Kp, 5)\n",
    "display(sp.Eq(sp.Function('GMF_Kp5')(z), gmf_kp5))\n",
    "\n",
    "gmf1_kp5 = gmf1.subs(Kp, 5)\n",
    "display(sp.Eq(sp.Function('GMF_T1,Kp5')(z), gmf1_kp5))\n",
    "print(gmf1_kp5)"
   ]
  },
  {
   "cell_type": "code",
   "execution_count": 19,
   "id": "6aa466bc",
   "metadata": {},
   "outputs": [
    {
     "name": "stdout",
     "output_type": "stream",
     "text": [
      "jury_result=[0.928231618838182, 0.9753238716152308]\n",
      "Stable!\n"
     ]
    }
   ],
   "source": [
    "from college_crap_lib.ctrl.control_ii import eval_rutiruti_jury\n",
    "eval_rutiruti_jury([1, 1.88065032785616, 0.928231618838182])"
   ]
  },
  {
   "cell_type": "code",
   "execution_count": 20,
   "outputs": [
    {
     "name": "stdout",
     "output_type": "stream",
     "text": [
      "De acordo com o limite, temos ereg = 1.65423230669148E-14\n"
     ]
    }
   ],
   "source": [
    "vreg = sp.limit(gmf1_kp5, z, 1).evalf()\n",
    "print(f'De acordo com o limite, temos ereg = {1-vreg}')"
   ],
   "metadata": {
    "collapsed": false,
    "pycharm": {
     "name": "#%%\n"
    }
   }
  }
 ],
 "metadata": {
  "kernelspec": {
   "display_name": "Python 3 (ipykernel)",
   "language": "python",
   "name": "python3"
  },
  "language_info": {
   "codemirror_mode": {
    "name": "ipython",
    "version": 3
   },
   "file_extension": ".py",
   "mimetype": "text/x-python",
   "name": "python",
   "nbconvert_exporter": "python",
   "pygments_lexer": "ipython3",
   "version": "3.9.12"
  }
 },
 "nbformat": 4,
 "nbformat_minor": 5
}