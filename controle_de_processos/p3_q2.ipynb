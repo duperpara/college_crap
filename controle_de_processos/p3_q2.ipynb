{
 "cells": [
  {
   "cell_type": "code",
   "execution_count": 2,
   "id": "732ff3c4",
   "metadata": {
    "pycharm": {
     "name": "#%%\n"
    }
   },
   "outputs": [],
   "source": [
    "import sympy as sp"
   ]
  },
  {
   "cell_type": "code",
   "execution_count": 10,
   "outputs": [],
   "source": [
    "s, z, t, k, K, Kp, Ki, T, a = sp.symbols('s, z, t, k, K, Kp, Ki, T, a')\n",
    "Uz = sp.Function('U')(z)\n",
    "Ez = sp.Function('E')(z)\n",
    "Ys = sp.Function('Y')(s)\n",
    "Gs = sp.Function('G')(s)\n",
    "Gc = sp.Function('Gc')(s)"
   ],
   "metadata": {
    "collapsed": false,
    "pycharm": {
     "name": "#%%\n"
    }
   }
  },
  {
   "cell_type": "code",
   "execution_count": 4,
   "outputs": [
    {
     "name": "stdout",
     "output_type": "stream",
     "text": [
      "considerando G(s) como:\n"
     ]
    },
    {
     "data": {
      "text/plain": "Eq(G(s), 1/(s + 8))",
      "text/latex": "$\\displaystyle G{\\left(s \\right)} = \\frac{1}{s + 8}$"
     },
     "metadata": {},
     "output_type": "display_data"
    }
   ],
   "source": [
    "print('considerando G(s) como:')\n",
    "Gs_eq = sp.Eq(Gs, 1/(s+8))\n",
    "display(Gs_eq)"
   ],
   "metadata": {
    "collapsed": false,
    "pycharm": {
     "name": "#%%\n"
    }
   }
  },
  {
   "cell_type": "code",
   "execution_count": 15,
   "outputs": [
    {
     "name": "stdout",
     "output_type": "stream",
     "text": [
      "Foi decidido utilizar um controlador PI:\n"
     ]
    },
    {
     "data": {
      "text/plain": "s*(Ki/s + Kp)/(Ki + Kp*s + s*(s + 8))",
      "text/latex": "$\\displaystyle \\frac{s \\left(\\frac{Ki}{s} + Kp\\right)}{Ki + Kp s + s \\left(s + 8\\right)}$"
     },
     "execution_count": 15,
     "metadata": {},
     "output_type": "execute_result"
    }
   ],
   "source": [
    "print('Foi decidido utilizar um controlador PI:')\n",
    "Gs_eq.rhs*(Kp+(Ki/s))/(Gs_eq.rhs*(Kp+(Ki/s)) + 1).simplify()"
   ],
   "metadata": {
    "collapsed": false,
    "pycharm": {
     "name": "#%%\n"
    }
   }
  },
  {
   "cell_type": "code",
   "execution_count": 18,
   "outputs": [
    {
     "name": "stdout",
     "output_type": "stream",
     "text": [
      "podemos simplificar a função de transferencia da seguinte forma:\n",
      "([Kp, Ki], [1, Kp + 8, Ki])\n"
     ]
    }
   ],
   "source": [
    "print('podemos simplificar a função de transferencia da seguinte forma:')\n",
    "tf_li = [Kp, Ki], [1, 8+Kp, Ki]\n",
    "print(tf_li)"
   ],
   "metadata": {
    "collapsed": false,
    "pycharm": {
     "name": "#%%\n"
    }
   }
  },
  {
   "cell_type": "code",
   "execution_count": 56,
   "outputs": [
    {
     "name": "stdout",
     "output_type": "stream",
     "text": [
      "([Kp, Ki], [1, Kp + 8, Ki])\n"
     ]
    },
    {
     "ename": "KeyboardInterrupt",
     "evalue": "",
     "output_type": "error",
     "traceback": [
      "\u001B[1;31m---------------------------------------------------------------------------\u001B[0m",
      "\u001B[1;31mKeyboardInterrupt\u001B[0m                         Traceback (most recent call last)",
      "Cell \u001B[1;32mIn [56], line 2\u001B[0m\n\u001B[0;32m      1\u001B[0m \u001B[38;5;28;01mfrom\u001B[39;00m \u001B[38;5;21;01mcollege_crap_lib\u001B[39;00m\u001B[38;5;21;01m.\u001B[39;00m\u001B[38;5;21;01mctrl\u001B[39;00m\u001B[38;5;21;01m.\u001B[39;00m\u001B[38;5;21;01mcontrol_ii\u001B[39;00m \u001B[38;5;28;01mimport\u001B[39;00m get_ta_so_ereg\n\u001B[1;32m----> 2\u001B[0m \u001B[43mget_ta_so_ereg\u001B[49m\u001B[43m(\u001B[49m\u001B[43mtf_li\u001B[49m\u001B[43m)\u001B[49m\n",
      "File \u001B[1;32m~\\PycharmProjects\\college_crap\\college_crap_lib\\ctrl\\control_ii.py:35\u001B[0m, in \u001B[0;36mget_ta_so_ereg\u001B[1;34m(tf)\u001B[0m\n\u001B[0;32m     32\u001B[0m \u001B[38;5;66;03m# get_csi_and_wn\u001B[39;00m\n\u001B[0;32m     33\u001B[0m normalized_poli \u001B[38;5;241m=\u001B[39m [item\u001B[38;5;241m/\u001B[39mtf[\u001B[38;5;241m1\u001B[39m][\u001B[38;5;241m1\u001B[39m] \u001B[38;5;28;01mfor\u001B[39;00m item \u001B[38;5;129;01min\u001B[39;00m tf[\u001B[38;5;241m1\u001B[39m]]\n\u001B[1;32m---> 35\u001B[0m wn \u001B[38;5;241m=\u001B[39m \u001B[43msqrt\u001B[49m(normalized_poli[\u001B[38;5;241m-\u001B[39m\u001B[38;5;241m1\u001B[39m])\n\u001B[0;32m     36\u001B[0m csi \u001B[38;5;241m=\u001B[39m normalized_poli[\u001B[38;5;241m-\u001B[39m\u001B[38;5;241m2\u001B[39m] \u001B[38;5;241m/\u001B[39m (\u001B[38;5;241m2\u001B[39m \u001B[38;5;241m*\u001B[39m wn)\n\u001B[0;32m     38\u001B[0m \u001B[38;5;28;01mreturn\u001B[39;00m {\n\u001B[0;32m     39\u001B[0m     \u001B[38;5;124m'\u001B[39m\u001B[38;5;124mta\u001B[39m\u001B[38;5;124m'\u001B[39m: \u001B[38;5;241m4.8\u001B[39m \u001B[38;5;241m/\u001B[39m (csi \u001B[38;5;241m*\u001B[39m wn),\n\u001B[0;32m     40\u001B[0m     \u001B[38;5;124m'\u001B[39m\u001B[38;5;124mSo\u001B[39m\u001B[38;5;124m'\u001B[39m: e \u001B[38;5;241m*\u001B[39m\u001B[38;5;241m*\u001B[39m (\u001B[38;5;241m-\u001B[39mpi \u001B[38;5;241m*\u001B[39m csi \u001B[38;5;241m/\u001B[39m sqrt(\u001B[38;5;241m1\u001B[39m \u001B[38;5;241m-\u001B[39m csi \u001B[38;5;241m*\u001B[39m\u001B[38;5;241m*\u001B[39m \u001B[38;5;241m2\u001B[39m)),\n\u001B[0;32m     41\u001B[0m     \u001B[38;5;124m'\u001B[39m\u001B[38;5;124mereg\u001B[39m\u001B[38;5;124m'\u001B[39m: tf[\u001B[38;5;241m0\u001B[39m][\u001B[38;5;241m-\u001B[39m\u001B[38;5;241m1\u001B[39m] \u001B[38;5;241m/\u001B[39m tf[\u001B[38;5;241m1\u001B[39m][\u001B[38;5;241m-\u001B[39m\u001B[38;5;241m1\u001B[39m] \u001B[38;5;241m-\u001B[39m \u001B[38;5;241m1\u001B[39m\n\u001B[0;32m     42\u001B[0m }\n",
      "File \u001B[1;32m~\\PycharmProjects\\college_crap\\college_crap_lib\\ctrl\\control_ii.py:35\u001B[0m, in \u001B[0;36mget_ta_so_ereg\u001B[1;34m(tf)\u001B[0m\n\u001B[0;32m     32\u001B[0m \u001B[38;5;66;03m# get_csi_and_wn\u001B[39;00m\n\u001B[0;32m     33\u001B[0m normalized_poli \u001B[38;5;241m=\u001B[39m [item\u001B[38;5;241m/\u001B[39mtf[\u001B[38;5;241m1\u001B[39m][\u001B[38;5;241m1\u001B[39m] \u001B[38;5;28;01mfor\u001B[39;00m item \u001B[38;5;129;01min\u001B[39;00m tf[\u001B[38;5;241m1\u001B[39m]]\n\u001B[1;32m---> 35\u001B[0m wn \u001B[38;5;241m=\u001B[39m \u001B[43msqrt\u001B[49m(normalized_poli[\u001B[38;5;241m-\u001B[39m\u001B[38;5;241m1\u001B[39m])\n\u001B[0;32m     36\u001B[0m csi \u001B[38;5;241m=\u001B[39m normalized_poli[\u001B[38;5;241m-\u001B[39m\u001B[38;5;241m2\u001B[39m] \u001B[38;5;241m/\u001B[39m (\u001B[38;5;241m2\u001B[39m \u001B[38;5;241m*\u001B[39m wn)\n\u001B[0;32m     38\u001B[0m \u001B[38;5;28;01mreturn\u001B[39;00m {\n\u001B[0;32m     39\u001B[0m     \u001B[38;5;124m'\u001B[39m\u001B[38;5;124mta\u001B[39m\u001B[38;5;124m'\u001B[39m: \u001B[38;5;241m4.8\u001B[39m \u001B[38;5;241m/\u001B[39m (csi \u001B[38;5;241m*\u001B[39m wn),\n\u001B[0;32m     40\u001B[0m     \u001B[38;5;124m'\u001B[39m\u001B[38;5;124mSo\u001B[39m\u001B[38;5;124m'\u001B[39m: e \u001B[38;5;241m*\u001B[39m\u001B[38;5;241m*\u001B[39m (\u001B[38;5;241m-\u001B[39mpi \u001B[38;5;241m*\u001B[39m csi \u001B[38;5;241m/\u001B[39m sqrt(\u001B[38;5;241m1\u001B[39m \u001B[38;5;241m-\u001B[39m csi \u001B[38;5;241m*\u001B[39m\u001B[38;5;241m*\u001B[39m \u001B[38;5;241m2\u001B[39m)),\n\u001B[0;32m     41\u001B[0m     \u001B[38;5;124m'\u001B[39m\u001B[38;5;124mereg\u001B[39m\u001B[38;5;124m'\u001B[39m: tf[\u001B[38;5;241m0\u001B[39m][\u001B[38;5;241m-\u001B[39m\u001B[38;5;241m1\u001B[39m] \u001B[38;5;241m/\u001B[39m tf[\u001B[38;5;241m1\u001B[39m][\u001B[38;5;241m-\u001B[39m\u001B[38;5;241m1\u001B[39m] \u001B[38;5;241m-\u001B[39m \u001B[38;5;241m1\u001B[39m\n\u001B[0;32m     42\u001B[0m }\n",
      "File \u001B[1;32m_pydevd_bundle\\pydevd_cython_win32_310_64.pyx:1180\u001B[0m, in \u001B[0;36m_pydevd_bundle.pydevd_cython_win32_310_64.SafeCallWrapper.__call__\u001B[1;34m()\u001B[0m\n",
      "File \u001B[1;32m_pydevd_bundle\\pydevd_cython_win32_310_64.pyx:621\u001B[0m, in \u001B[0;36m_pydevd_bundle.pydevd_cython_win32_310_64.PyDBFrame.trace_dispatch\u001B[1;34m()\u001B[0m\n",
      "File \u001B[1;32m_pydevd_bundle\\pydevd_cython_win32_310_64.pyx:930\u001B[0m, in \u001B[0;36m_pydevd_bundle.pydevd_cython_win32_310_64.PyDBFrame.trace_dispatch\u001B[1;34m()\u001B[0m\n",
      "File \u001B[1;32m_pydevd_bundle\\pydevd_cython_win32_310_64.pyx:921\u001B[0m, in \u001B[0;36m_pydevd_bundle.pydevd_cython_win32_310_64.PyDBFrame.trace_dispatch\u001B[1;34m()\u001B[0m\n",
      "File \u001B[1;32m_pydevd_bundle\\pydevd_cython_win32_310_64.pyx:318\u001B[0m, in \u001B[0;36m_pydevd_bundle.pydevd_cython_win32_310_64.PyDBFrame.do_wait_suspend\u001B[1;34m()\u001B[0m\n",
      "File \u001B[1;32mC:\\Program Files\\JetBrains\\PyCharm 2021.3.3\\plugins\\python\\helpers\\pydev\\pydevd.py:1147\u001B[0m, in \u001B[0;36mPyDB.do_wait_suspend\u001B[1;34m(self, thread, frame, event, arg, send_suspend_message, is_unhandled_exception)\u001B[0m\n\u001B[0;32m   1144\u001B[0m         from_this_thread\u001B[38;5;241m.\u001B[39mappend(frame_id)\n\u001B[0;32m   1146\u001B[0m \u001B[38;5;28;01mwith\u001B[39;00m \u001B[38;5;28mself\u001B[39m\u001B[38;5;241m.\u001B[39m_threads_suspended_single_notification\u001B[38;5;241m.\u001B[39mnotify_thread_suspended(thread_id, stop_reason):\n\u001B[1;32m-> 1147\u001B[0m     \u001B[38;5;28;43mself\u001B[39;49m\u001B[38;5;241;43m.\u001B[39;49m\u001B[43m_do_wait_suspend\u001B[49m\u001B[43m(\u001B[49m\u001B[43mthread\u001B[49m\u001B[43m,\u001B[49m\u001B[43m \u001B[49m\u001B[43mframe\u001B[49m\u001B[43m,\u001B[49m\u001B[43m \u001B[49m\u001B[43mevent\u001B[49m\u001B[43m,\u001B[49m\u001B[43m \u001B[49m\u001B[43marg\u001B[49m\u001B[43m,\u001B[49m\u001B[43m \u001B[49m\u001B[43msuspend_type\u001B[49m\u001B[43m,\u001B[49m\u001B[43m \u001B[49m\u001B[43mfrom_this_thread\u001B[49m\u001B[43m)\u001B[49m\n",
      "File \u001B[1;32mC:\\Program Files\\JetBrains\\PyCharm 2021.3.3\\plugins\\python\\helpers\\pydev\\pydevd.py:1162\u001B[0m, in \u001B[0;36mPyDB._do_wait_suspend\u001B[1;34m(self, thread, frame, event, arg, suspend_type, from_this_thread)\u001B[0m\n\u001B[0;32m   1159\u001B[0m             \u001B[38;5;28mself\u001B[39m\u001B[38;5;241m.\u001B[39m_call_mpl_hook()\n\u001B[0;32m   1161\u001B[0m         \u001B[38;5;28mself\u001B[39m\u001B[38;5;241m.\u001B[39mprocess_internal_commands()\n\u001B[1;32m-> 1162\u001B[0m         \u001B[43mtime\u001B[49m\u001B[38;5;241;43m.\u001B[39;49m\u001B[43msleep\u001B[49m\u001B[43m(\u001B[49m\u001B[38;5;241;43m0.01\u001B[39;49m\u001B[43m)\u001B[49m\n\u001B[0;32m   1164\u001B[0m \u001B[38;5;28mself\u001B[39m\u001B[38;5;241m.\u001B[39mcancel_async_evaluation(get_current_thread_id(thread), \u001B[38;5;28mstr\u001B[39m(\u001B[38;5;28mid\u001B[39m(frame)))\n\u001B[0;32m   1166\u001B[0m \u001B[38;5;66;03m# process any stepping instructions\u001B[39;00m\n",
      "\u001B[1;31mKeyboardInterrupt\u001B[0m: "
     ]
    }
   ],
   "source": [
    "from college_crap_lib.ctrl.control_ii import get_ta_so_ereg\n",
    "get_ta_so_ereg(tf_li)"
   ],
   "metadata": {
    "collapsed": false,
    "pycharm": {
     "name": "#%%\n"
    }
   }
  },
  {
   "cell_type": "code",
   "execution_count": 64,
   "outputs": [
    {
     "name": "stdout",
     "output_type": "stream",
     "text": [
      "Utilizando a aproximação de controlador por csi e Wn,\n",
      "com csi = 0.7 temos ki = 293.877551020408 e kp = 411.428571428571\n"
     ]
    }
   ],
   "source": [
    "print(f'Utilizando a aproximação de controlador por csi e Wn,\\ncom csi = 0.7 temos ki = {sp.solve(4.8/(0.7*sp.sqrt(Ki)) - 0.4, Ki)[0]} e kp = {2*0.7*sp.solve(4.8/(0.7*sp.sqrt(Ki)) - 0.4, Ki)[0]}')\n"
   ],
   "metadata": {
    "collapsed": false,
    "pycharm": {
     "name": "#%%\n"
    }
   }
  },
  {
   "cell_type": "code",
   "execution_count": 65,
   "outputs": [
    {
     "name": "stdout",
     "output_type": "stream",
     "text": [
      "([411.428571428571, 293.877551020408], [1, 419.428571428571, 293.877551020408])\n"
     ]
    }
   ],
   "source": [
    "tf_li = [411.428571428571, 293.877551020408], [1, 8+411.428571428571, 293.877551020408]\n",
    "print(tf_li)"
   ],
   "metadata": {
    "collapsed": false,
    "pycharm": {
     "name": "#%%\n"
    }
   }
  },
  {
   "cell_type": "code",
   "execution_count": 66,
   "outputs": [
    {
     "data": {
      "text/plain": "-0.4 + 6.85714285714286/sqrt(Ki)",
      "text/latex": "$\\displaystyle -0.4 + \\frac{6.85714285714286}{\\sqrt{Ki}}$"
     },
     "execution_count": 66,
     "metadata": {},
     "output_type": "execute_result"
    }
   ],
   "source": [
    "4.8/(0.7*sp.sqrt(Ki)) - 0.4"
   ],
   "metadata": {
    "collapsed": false,
    "pycharm": {
     "name": "#%%\n"
    }
   }
  },
  {
   "cell_type": "code",
   "execution_count": null,
   "outputs": [],
   "source": [],
   "metadata": {
    "collapsed": false,
    "pycharm": {
     "name": "#%%\n"
    }
   }
  },
  {
   "cell_type": "code",
   "execution_count": null,
   "outputs": [],
   "source": [],
   "metadata": {
    "collapsed": false,
    "pycharm": {
     "name": "#%%\n"
    }
   }
  },
  {
   "cell_type": "code",
   "execution_count": null,
   "outputs": [],
   "source": [],
   "metadata": {
    "collapsed": false,
    "pycharm": {
     "name": "#%%\n"
    }
   }
  }
 ],
 "metadata": {
  "kernelspec": {
   "display_name": "Python 3 (ipykernel)",
   "language": "python",
   "name": "python3"
  },
  "language_info": {
   "codemirror_mode": {
    "name": "ipython",
    "version": 3
   },
   "file_extension": ".py",
   "mimetype": "text/x-python",
   "name": "python",
   "nbconvert_exporter": "python",
   "pygments_lexer": "ipython3",
   "version": "3.9.12"
  }
 },
 "nbformat": 4,
 "nbformat_minor": 5
}