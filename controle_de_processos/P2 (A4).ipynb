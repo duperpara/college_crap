{
 "cells": [
  {
   "cell_type": "code",
   "execution_count": 8,
   "metadata": {
    "collapsed": true
   },
   "outputs": [],
   "source": [
    "import sympy as sp\n",
    "import control\n",
    "import pandas as pd\n",
    "import numpy as np\n",
    "import matplotlib.pyplot as plt"
   ]
  },
  {
   "cell_type": "code",
   "execution_count": 2,
   "outputs": [],
   "source": [
    "s, z = sp.symbols('s, z')"
   ],
   "metadata": {
    "collapsed": false,
    "pycharm": {
     "name": "#%%\n"
    }
   }
  },
  {
   "cell_type": "code",
   "execution_count": 13,
   "outputs": [
    {
     "data": {
      "text/plain": "Eq(G(s), 1/(s*(s + 2)))",
      "text/latex": "$\\displaystyle G{\\left(s \\right)} = \\frac{1}{s \\left(s + 2\\right)}$"
     },
     "metadata": {},
     "output_type": "display_data"
    },
    {
     "name": "stdout",
     "output_type": "stream",
     "text": [
      "num_li = [1], den_li = [1, 2, 0]\n"
     ]
    }
   ],
   "source": [
    "gs = 1/(s*(s+2))\n",
    "display(sp.Eq(sp.Function(sp.Symbol('G'))(s), gs))\n",
    "num = 1\n",
    "den = 1/gs\n",
    "num_li = [1]\n",
    "den_li = [1, 2, 0]\n",
    "print(f'{num_li = }, {den_li = }')"
   ],
   "metadata": {
    "collapsed": false,
    "pycharm": {
     "name": "#%%\n"
    }
   }
  },
  {
   "cell_type": "code",
   "execution_count": 59,
   "outputs": [
    {
     "name": "stdout",
     "output_type": "stream",
     "text": [
      "projeto do controlador em s para satisfazer os pré-requisitos csi=0.7 e ta = 2s:\n",
      "Utilizando a seguinte aproximação para ta:\n"
     ]
    },
    {
     "data": {
      "text/plain": "Eq(ta, 3.9/(Csi*Wn))",
      "text/latex": "$\\displaystyle ta = \\frac{3.9}{Csi Wn}$"
     },
     "metadata": {},
     "output_type": "display_data"
    },
    {
     "name": "stdout",
     "output_type": "stream",
     "text": [
      "como csi=0.7 é um pré requisito, podemos estimar Wn:\n"
     ]
    },
    {
     "data": {
      "text/plain": "Eq(Wn, 3.9/(Csi*ta))",
      "text/latex": "$\\displaystyle Wn = \\frac{3.9}{Csi ta}$"
     },
     "metadata": {},
     "output_type": "display_data"
    },
    {
     "data": {
      "text/plain": "Eq(Wn, 2.78571428571429)",
      "text/latex": "$\\displaystyle Wn = 2.78571428571429$"
     },
     "metadata": {},
     "output_type": "display_data"
    },
    {
     "name": "stdout",
     "output_type": "stream",
     "text": [
      "Com csi=0.7 e Wn=2.78571428571429\n",
      "Assim, para que o sistema seja estável em malha fechada, seu denominador deve ser:\n"
     ]
    },
    {
     "data": {
      "text/plain": "s**2 + 3.9*s + 7.76020408163268",
      "text/latex": "$\\displaystyle s^{2} + 3.9 s + 7.76020408163268$"
     },
     "metadata": {},
     "output_type": "display_data"
    },
    {
     "name": "stdout",
     "output_type": "stream",
     "text": [
      "s**2 + 3.9*s + 7.76020408163268\n"
     ]
    }
   ],
   "source": [
    "print(\"projeto do controlador em s para satisfazer os pré-requisitos csi=0.7 e ta = 2s:\")\n",
    "print('Utilizando a seguinte aproximação para ta:')\n",
    "Csi, Wn, ta = sp.Symbol('Csi'), sp.Symbol('Wn'), sp.Symbol('ta')\n",
    "display(sp.Eq(ta, 3.9/(Csi*Wn)))\n",
    "print('como csi=0.7 é um pré requisito, podemos estimar Wn:')\n",
    "display(sp.Eq(Wn, 3.9/(Csi*ta)))\n",
    "display(sp.Eq(Wn, (3.9/(Csi*ta)).subs(Csi, 0.7).subs(ta, 2)))\n",
    "print(f'Com csi=0.7 e Wn=2.78571428571429')\n",
    "print('Assim, para que o sistema seja estável em malha fechada, seu denominador deve ser:')\n",
    "\n",
    "den_ideal = s**2 + 3.9*s + 2.78571428571429**2\n",
    "display(den_ideal)\n",
    "print(den_ideal)\n"
   ],
   "metadata": {
    "collapsed": false,
    "pycharm": {
     "name": "#%%\n"
    }
   }
  },
  {
   "cell_type": "code",
   "execution_count": 60,
   "outputs": [
    {
     "name": "stdout",
     "output_type": "stream",
     "text": [
      "solucionando para os polos, obtemos:\n"
     ]
    },
    {
     "data": {
      "text/plain": "Eq(s_1, -1.95 - 1.98939791937979*I)",
      "text/latex": "$\\displaystyle s_{1} = -1.95 - 1.98939791937979 i$"
     },
     "metadata": {},
     "output_type": "display_data"
    },
    {
     "data": {
      "text/plain": "Eq(s_2, -1.95 + 1.98939791937979*I)",
      "text/latex": "$\\displaystyle s_{2} = -1.95 + 1.98939791937979 i$"
     },
     "execution_count": 60,
     "metadata": {},
     "output_type": "execute_result"
    }
   ],
   "source": [
    "print(\"solucionando para os polos, obtemos:\")\n",
    "polos = sp.solve(den_ideal, s)\n",
    "display(sp.Eq(sp.symbols('s_1'), polos[0]))\n",
    "sp.Eq(sp.symbols('s_2'), polos[1])\n"
   ],
   "metadata": {
    "collapsed": false,
    "pycharm": {
     "name": "#%%\n"
    }
   }
  },
  {
   "cell_type": "code",
   "execution_count": 70,
   "outputs": [
    {
     "name": "stdout",
     "output_type": "stream",
     "text": [
      "logo:\n"
     ]
    },
    {
     "data": {
      "text/plain": "Eq(z1, exp(T*(-1.95 - 1.98939791937979*I)))",
      "text/latex": "$\\displaystyle z_{1} = e^{T \\left(-1.95 - 1.98939791937979 i\\right)}$"
     },
     "metadata": {},
     "output_type": "display_data"
    },
    {
     "name": "stdout",
     "output_type": "stream",
     "text": [
      "Eq(z1, exp(T*(-1.95 - 1.98939791937979*I)))\n"
     ]
    },
    {
     "data": {
      "text/plain": "Eq(z2, exp(T*(-1.95 + 1.98939791937979*I)))",
      "text/latex": "$\\displaystyle z_{2} = e^{T \\left(-1.95 + 1.98939791937979 i\\right)}$"
     },
     "metadata": {},
     "output_type": "display_data"
    },
    {
     "name": "stdout",
     "output_type": "stream",
     "text": [
      "Eq(z2, exp(T*(-1.95 + 1.98939791937979*I)))\n",
      "substituindo seno e coseno:\n"
     ]
    },
    {
     "data": {
      "text/plain": "Eq(z1, -I*exp(-1.95*T)*sin(1.98939791937979*T) + exp(-1.95*T)*cos(1.98939791937979*T))",
      "text/latex": "$\\displaystyle z_{1} = - i e^{- 1.95 T} \\sin{\\left(1.98939791937979 T \\right)} + e^{- 1.95 T} \\cos{\\left(1.98939791937979 T \\right)}$"
     },
     "metadata": {},
     "output_type": "display_data"
    },
    {
     "data": {
      "text/plain": "Eq(z2, I*exp(-1.95*T)*sin(1.98939791937979*T) + exp(-1.95*T)*cos(1.98939791937979*T))",
      "text/latex": "$\\displaystyle z_{2} = i e^{- 1.95 T} \\sin{\\left(1.98939791937979 T \\right)} + e^{- 1.95 T} \\cos{\\left(1.98939791937979 T \\right)}$"
     },
     "metadata": {},
     "output_type": "display_data"
    },
    {
     "name": "stdout",
     "output_type": "stream",
     "text": [
      "assim, para T=0.2s:\n"
     ]
    },
    {
     "data": {
      "text/plain": "Eq(z1, 0.624168340925144 - 0.262335459844788*I)",
      "text/latex": "$\\displaystyle z_{1} = 0.624168340925144 - 0.262335459844788 i$"
     },
     "metadata": {},
     "output_type": "display_data"
    },
    {
     "data": {
      "text/plain": "Eq(z2, 0.624168340925144 + 0.262335459844788*I)",
      "text/latex": "$\\displaystyle z_{2} = 0.624168340925144 + 0.262335459844788 i$"
     },
     "metadata": {},
     "output_type": "display_data"
    }
   ],
   "source": [
    "print('logo:')\n",
    "T = sp.Symbol('T')\n",
    "z1 = sp.exp(polos[0]*T)\n",
    "z2 = sp.exp(polos[1]*T)\n",
    "display(sp.Eq(sp.Symbol('z1'), z1))\n",
    "print(sp.Eq(sp.Symbol('z1'), z1))\n",
    "display(sp.Eq(sp.Symbol('z2'), z2))\n",
    "print(sp.Eq(sp.Symbol('z2'), z2))\n",
    "\n",
    "print('substituindo seno e coseno:')\n",
    "z1 = sp.exp(-1.95*T)*sp.cos(T*1.98939791937979) - sp.exp(-1.95*T)*sp.sin(T*1.98939791937979)*sp.I\n",
    "z2 = sp.exp(-1.95*T)*sp.cos(T*1.98939791937979) + sp.exp(-1.95*T)*sp.sin(T*1.98939791937979)*sp.I\n",
    "display(sp.Eq(sp.Symbol('z1'), z1))\n",
    "display(sp.Eq(sp.Symbol('z2'), z2))\n",
    "\n",
    "print('assim, para T=0.2s:')\n",
    "\n",
    "z1 = z1.subs(T, 0.2)\n",
    "z2 = z2.subs(T, 0.2)\n",
    "\n",
    "display(sp.Eq(sp.Symbol('z1'), z1))\n",
    "display(sp.Eq(sp.Symbol('z2'), z2))\n"
   ],
   "metadata": {
    "collapsed": false,
    "pycharm": {
     "name": "#%%\n"
    }
   }
  },
  {
   "cell_type": "code",
   "execution_count": 79,
   "outputs": [
    {
     "name": "stdout",
     "output_type": "stream",
     "text": [
      "Sendo a função de transferência discreta do processo:\n"
     ]
    },
    {
     "data": {
      "text/plain": "Eq(G(z), 0.25*(2*T - 1 + exp(-2*T) + (-2*T*exp(-2*T) + 1 - exp(-2*T))/z)/(z*(1 - 1/z)*(1 - exp(-2*T)/z)))",
      "text/latex": "$\\displaystyle G{\\left(z \\right)} = \\frac{0.25 \\cdot \\left(2 T - 1 + e^{- 2 T} + \\frac{- 2 T e^{- 2 T} + 1 - e^{- 2 T}}{z}\\right)}{z \\left(1 - \\frac{1}{z}\\right) \\left(1 - \\frac{e^{- 2 T}}{z}\\right)}$"
     },
     "metadata": {},
     "output_type": "display_data"
    },
    {
     "name": "stdout",
     "output_type": "stream",
     "text": [
      "substituindo T, temos:\n"
     ]
    },
    {
     "data": {
      "text/plain": "Eq(G(z), (0.0175800115089098*z + 0.0153879838875262)/((z - 1)*(z - 0.670320046035639)))",
      "text/latex": "$\\displaystyle G{\\left(z \\right)} = \\frac{0.0175800115089098 z + 0.0153879838875262}{\\left(z - 1\\right) \\left(z - 0.670320046035639\\right)}$"
     },
     "metadata": {},
     "output_type": "display_data"
    },
    {
     "data": {
      "text/plain": "Eq(G(z), (0.0175800115089098*z + 0.0153879838875262)/(z**2 - 1.67032004603564*z + 0.670320046035639))",
      "text/latex": "$\\displaystyle G{\\left(z \\right)} = \\frac{0.0175800115089098 z + 0.0153879838875262}{z^{2} - 1.67032004603564 z + 0.670320046035639}$"
     },
     "metadata": {},
     "output_type": "display_data"
    },
    {
     "name": "stdout",
     "output_type": "stream",
     "text": [
      "(0.0175800115089098*z + 0.0153879838875262)/(z**2 - 1.67032004603564*z + 0.670320046035639)\n",
      "gz_num_li = [0.0175800115089098, 0.0153879838875262], gz_den_li = [1, 1.67032004603564, 0.67032004603564]\n"
     ]
    }
   ],
   "source": [
    "print(\"Sendo a função de transferência discreta do processo:\")\n",
    "a = 2\n",
    "gz = (1/4)*(\n",
    "    (\n",
    "        (\n",
    "            (a*T-1+sp.exp(-a*T)) +\n",
    "            ( 1 - sp.exp(-a*T) - a*T*sp.exp(-a*T) )*(z**-1)\n",
    "        )*(z**-1)\n",
    "    )\n",
    "    /\n",
    "    (\n",
    "        ( (1 - (z**-1))**2 ) *\n",
    "        ( 1 - sp.exp(-a*T)*(z**-1) )\n",
    "    )\n",
    ") * (1-(z**-1))\n",
    "display(sp.Eq(sp.Function(\"G\")(z), gz))\n",
    "print('substituindo T, temos:')\n",
    "gz = gz.subs(T, 0.2)\n",
    "display(sp.Eq(sp.Function(\"G\")(z), gz.simplify()))\n",
    "gz_simp = gz.simplify().expand().simplify()\n",
    "display(sp.Eq(sp.Function(\"G\")(z), gz_simp))\n",
    "print(gz_simp)\n",
    "gz_num_li =[0.0175800115089098, 0.0153879838875262]\n",
    "gz_den_li = [1, 1.67032004603564, 0.67032004603564]\n",
    "print(f'{gz_num_li = }, {gz_den_li = }')"
   ],
   "metadata": {
    "collapsed": false,
    "pycharm": {
     "name": "#%%\n"
    }
   }
  },
  {
   "cell_type": "code",
   "execution_count": 77,
   "outputs": [
    {
     "name": "stdout",
     "output_type": "stream",
     "text": [
      "Considerando o seguinte polinômio característico desejado:\n"
     ]
    },
    {
     "data": {
      "text/plain": "Eq(F_d(z), 1.0*z**2 - 1.24833668185029*z + 0.458406011305224)",
      "text/latex": "$\\displaystyle F_{d}{\\left(z \\right)} = 1.0 z^{2} - 1.24833668185029 z + 0.458406011305224$"
     },
     "metadata": {},
     "output_type": "display_data"
    },
    {
     "name": "stdout",
     "output_type": "stream",
     "text": [
      "A função de transferência do processo G(z) tem grau n=2. O controlador Gc(z) deve ter grau m>= n-1. Assim, assumindo m=1, a função de transferência do controlador é do tipo:\n"
     ]
    },
    {
     "data": {
      "text/plain": "Eq(G_c(z), K*(C_1 + z)/(C_2 + z))",
      "text/latex": "$\\displaystyle G_{c}{\\left(z \\right)} = \\frac{K \\left(C_{1} + z\\right)}{C_{2} + z}$"
     },
     "metadata": {},
     "output_type": "display_data"
    }
   ],
   "source": [
    "print('Considerando o seguinte polinômio característico desejado:')\n",
    "desired_caract_poli = ((z-z1)*(z-z2)).simplify()\n",
    "display(sp.Eq(sp.Function(sp.Symbol('F_d'))(z), desired_caract_poli))\n",
    "\n",
    "print('A função de transferência do processo G(z) tem grau n=2. O controlador Gc(z) deve ter grau m>= n-1. Assim, assumindo m=1, a função de transferência do controlador é do tipo:')\n",
    "K, C1, C2 = sp.symbols('K, C_1, C_2')\n",
    "gc = K*(z+C1)/(z+C2)\n",
    "display(sp.Eq(sp.Function(sp.Symbol('G_c'))(z), gc))"
   ],
   "metadata": {
    "collapsed": false,
    "pycharm": {
     "name": "#%%\n"
    }
   }
  },
  {
   "cell_type": "code",
   "execution_count": 91,
   "outputs": [
    {
     "name": "stdout",
     "output_type": "stream",
     "text": [
      "desta forma, a função de transferência de malha aberta é dada por:\n"
     ]
    },
    {
     "data": {
      "text/plain": "Eq(G_ma(z), 0.25*K*(C_1 + z)*(0.0703200460356393*z + 0.0615519355501049)/((C_2 + z)*(z - 1)*(z - 0.670320046035639)))",
      "text/latex": "$\\displaystyle G_{ma}{\\left(z \\right)} = \\frac{0.25 K \\left(C_{1} + z\\right) \\left(0.0703200460356393 z + 0.0615519355501049\\right)}{\\left(C_{2} + z\\right) \\left(z - 1\\right) \\left(z - 0.670320046035639\\right)}$"
     },
     "metadata": {},
     "output_type": "display_data"
    },
    {
     "name": "stdout",
     "output_type": "stream",
     "text": [
      "Supondo que o zero do controlador cancela o polo estável da planta (C1 = -0.670320046035639), temos:\n"
     ]
    },
    {
     "data": {
      "text/plain": "Eq(G_ma(z), 0.25*K*(0.0703200460356393*z + 0.0615519355501049)/((C_2 + z)*(z - 1)))",
      "text/latex": "$\\displaystyle G_{ma}{\\left(z \\right)} = \\frac{0.25 K \\left(0.0703200460356393 z + 0.0615519355501049\\right)}{\\left(C_{2} + z\\right) \\left(z - 1\\right)}$"
     },
     "metadata": {},
     "output_type": "display_data"
    }
   ],
   "source": [
    "print('desta forma, a função de transferência de malha aberta é dada por:')\n",
    "gma = (gz*gc).simplify()\n",
    "display(sp.Eq(sp.Function(sp.Symbol('G_ma'))(z), gma))\n",
    "# print(gma)\n",
    "print('Supondo que o zero do controlador cancela o polo estável da planta (C1 = -0.670320046035639), temos:')\n",
    "gma = gma.subs((C1+z), 1).subs(1/gma.args[3], 1)\n",
    "display(sp.Eq(sp.Function(sp.Symbol('G_ma'))(z), gma))\n"
   ],
   "metadata": {
    "collapsed": false,
    "pycharm": {
     "name": "#%%\n"
    }
   }
  },
  {
   "cell_type": "code",
   "execution_count": 96,
   "outputs": [
    {
     "name": "stdout",
     "output_type": "stream",
     "text": [
      "Com isso, podemos fazer a função de transferênicia discreta em malha fechada:\n"
     ]
    },
    {
     "data": {
      "text/plain": "Eq(G_mf(z), K*(0.0175800115089098*z + 0.0153879838875262)/(C_2*z - C_2 + 0.0175800115089098*K*z + 0.0153879838875262*K + z**2 - z))",
      "text/latex": "$\\displaystyle G_{mf}{\\left(z \\right)} = \\frac{K \\left(0.0175800115089098 z + 0.0153879838875262\\right)}{C_{2} z - C_{2} + 0.0175800115089098 K z + 0.0153879838875262 K + z^{2} - z}$"
     },
     "metadata": {},
     "output_type": "display_data"
    }
   ],
   "source": [
    "print('Com isso, podemos fazer a função de transferênicia discreta em malha fechada:')\n",
    "gmf = (gma/(1+gma)).simplify().expand().simplify()\n",
    "display(sp.Eq(sp.Function(sp.Symbol('G_mf'))(z), gmf))"
   ],
   "metadata": {
    "collapsed": false,
    "pycharm": {
     "name": "#%%\n"
    }
   }
  },
  {
   "cell_type": "code",
   "execution_count": 102,
   "outputs": [
    {
     "name": "stdout",
     "output_type": "stream",
     "text": [
      "Comparando o plonomio característico de Gmf com o desejado, temos:\n"
     ]
    },
    {
     "data": {
      "text/plain": "{K: 6.37191697368550, C_2: -0.360355055581497}"
     },
     "metadata": {},
     "output_type": "display_data"
    },
    {
     "name": "stdout",
     "output_type": "stream",
     "text": [
      "substituindo os resultados em Gc e Gmf:\n"
     ]
    },
    {
     "data": {
      "text/plain": "Eq(G_c(z), 6.3719169736855*(z - 0.670320046035639)/(z - 0.360355055581497))",
      "text/latex": "$\\displaystyle G_{c}{\\left(z \\right)} = \\frac{6.3719169736855 \\left(z - 0.670320046035639\\right)}{z - 0.360355055581497}$"
     },
     "metadata": {},
     "output_type": "display_data"
    },
    {
     "data": {
      "text/plain": "Eq(G_mf(z), 6.3719169736855*(0.0175800115089098*z + 0.0153879838875262)/(z**2 - 1.24833668185029*z + 0.458406011305224))",
      "text/latex": "$\\displaystyle G_{mf}{\\left(z \\right)} = \\frac{6.3719169736855 \\cdot \\left(0.0175800115089098 z + 0.0153879838875262\\right)}{z^{2} - 1.24833668185029 z + 0.458406011305224}$"
     },
     "metadata": {},
     "output_type": "display_data"
    }
   ],
   "source": [
    "print('Comparando o plonomio característico de Gmf com o desejado, temos:')\n",
    "sol_k_c2 = sp.solve((1/gmf.args[1])- desired_caract_poli, (K, C2))\n",
    "display(sol_k_c2)\n",
    "print('substituindo os resultados em Gc e Gmf:')\n",
    "gc_solved = gc.subs(sol_k_c2).subs(C1, -0.670320046035639)\n",
    "gmf_solved = gmf.subs(sol_k_c2)\n",
    "display(sp.Eq(sp.Function(sp.Symbol('G_c'))(z), gc_solved))\n",
    "display(sp.Eq(sp.Function(sp.Symbol('G_mf'))(z), gmf_solved))\n"
   ],
   "metadata": {
    "collapsed": false,
    "pycharm": {
     "name": "#%%\n"
    }
   }
  },
  {
   "cell_type": "code",
   "execution_count": 113,
   "outputs": [
    {
     "name": "stdout",
     "output_type": "stream",
     "text": [
      "Análise dos resultados:\n",
      "6.3719169736855*(0.0175800115089098*z + 0.0153879838875262)/(z**2 - 1.24833668185029*z + 0.458406011305224)\n",
      "{'RiseTime': 4.0, 'SettlingTime': 11.0, 'SettlingMin': 0.927109859102365, 'SettlingMax': 1.0459590844935736, 'Overshoot': 4.5959084493564495, 'Undershoot': 0, 'Peak': 1.0459590844935736, 'PeakTime': 8.0, 'SteadyStateValue': 1.0000000000000087}\n"
     ]
    },
    {
     "data": {
      "text/plain": "<Figure size 640x480 with 1 Axes>",
      "image/png": "[encoded data removed]"
     },
     "metadata": {},
     "output_type": "display_data"
    },
    {
     "data": {
      "text/plain": "TransferFunction(array([0.11201837, 0.09805096]), array([ 1.        , -1.24833668,  0.45840601]), True)",
      "text/latex": "$$\\frac{0.112 z + 0.09805}{z^2 - 1.248 z + 0.4584}$$"
     },
     "metadata": {},
     "output_type": "display_data"
    }
   ],
   "source": [
    "print('Análise dos resultados:')\n",
    "\n",
    "ctrl_z = control.tf('z')\n",
    "print(gmf_solved)\n",
    "gmf_ctrl = 6.3719169736855*(0.0175800115089098*ctrl_z + 0.0153879838875262)/(ctrl_z**2 - 1.24833668185029*ctrl_z + 0.458406011305224)\n",
    "print(control.step_info(gmf_ctrl))\n",
    "\n",
    "\n",
    "def plot_print_tf(tf):\n",
    "    step = control.step_response(tf)\n",
    "    # pd.Series(step.inputs, index=step.time).plot()\n",
    "    pd.Series(step.outputs, index=step.time).plot()\n",
    "    plt.show()\n",
    "    display(tf)\n",
    "plot_print_tf(gmf_ctrl)"
   ],
   "metadata": {
    "collapsed": false,
    "pycharm": {
     "name": "#%%\n"
    }
   }
  },
  {
   "cell_type": "code",
   "execution_count": null,
   "outputs": [],
   "source": [],
   "metadata": {
    "collapsed": false,
    "pycharm": {
     "name": "#%%\n"
    }
   }
  },
  {
   "cell_type": "code",
   "execution_count": null,
   "outputs": [],
   "source": [],
   "metadata": {
    "collapsed": false,
    "pycharm": {
     "name": "#%%\n"
    }
   }
  },
  {
   "cell_type": "code",
   "execution_count": null,
   "outputs": [],
   "source": [],
   "metadata": {
    "collapsed": false,
    "pycharm": {
     "name": "#%%\n"
    }
   }
  },
  {
   "cell_type": "code",
   "execution_count": null,
   "outputs": [],
   "source": [],
   "metadata": {
    "collapsed": false,
    "pycharm": {
     "name": "#%%\n"
    }
   }
  },
  {
   "cell_type": "code",
   "execution_count": null,
   "outputs": [],
   "source": [],
   "metadata": {
    "collapsed": false,
    "pycharm": {
     "name": "#%%\n"
    }
   }
  },
  {
   "cell_type": "code",
   "execution_count": null,
   "outputs": [],
   "source": [],
   "metadata": {
    "collapsed": false,
    "pycharm": {
     "name": "#%%\n"
    }
   }
  },
  {
   "cell_type": "code",
   "execution_count": null,
   "outputs": [],
   "source": [],
   "metadata": {
    "collapsed": false,
    "pycharm": {
     "name": "#%%\n"
    }
   }
  },
  {
   "cell_type": "code",
   "execution_count": null,
   "outputs": [],
   "source": [],
   "metadata": {
    "collapsed": false,
    "pycharm": {
     "name": "#%%\n"
    }
   }
  }
 ],
 "metadata": {
  "kernelspec": {
   "display_name": "Python 3",
   "language": "python",
   "name": "python3"
  },
  "language_info": {
   "codemirror_mode": {
    "name": "ipython",
    "version": 2
   },
   "file_extension": ".py",
   "mimetype": "text/x-python",
   "name": "python",
   "nbconvert_exporter": "python",
   "pygments_lexer": "ipython2",
   "version": "2.7.6"
  }
 },
 "nbformat": 4,
 "nbformat_minor": 0
}