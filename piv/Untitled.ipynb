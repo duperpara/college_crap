{
 "cells": [
  {
   "cell_type": "code",
   "execution_count": 15,
   "id": "0511cfeb",
   "metadata": {},
   "outputs": [],
   "source": [
    "import sympy\n",
    "from sympy import symbols, acos, cos, sin, Matrix, nsimplify, Symbol, simplify, S, solvers, init_printing, \\\n",
    "pprint, atan, sqrt, tan, trigsimp, solve\n",
    "from math import pi\n",
    "from typing import List\n",
    "import pandas as pd\n",
    "\n",
    "#init_printing()"
   ]
  },
  {
   "cell_type": "code",
   "execution_count": 16,
   "id": "f17d2259",
   "metadata": {},
   "outputs": [],
   "source": [
    "from modeling import run, evaluate_tf_constants"
   ]
  },
  {
   "cell_type": "code",
   "execution_count": 17,
   "id": "b68a52b6",
   "metadata": {},
   "outputs": [
    {
     "name": "stdout",
     "output_type": "stream",
     "text": [
      "dhdt_flow: d*h/dt = (Ve - Vs)/A\n",
      "in_flow: Ve = K*U\n",
      "out_flow1: Vs = a*v\n",
      "out_flow2: Vs = sqrt(2)*a*sqrt(g)*sqrt(h)\n",
      "out_flow3: Vs = sqrt(2)*a*sqrt(g)*sqrt(pf/(g*ro))\n",
      "dhdt_flow_detailed: d*h/dt = (K*U - sqrt(2)*a*sqrt(g)*sqrt(h))/A\n",
      "h_subs: h = Delta_h + h0\n",
      "U_subs: U = Delta_U + U0\n",
      "delta_flow_detailed: d*(Delta_h + h0)/dt = (K*(Delta_U + U0) - sqrt(2)*a*sqrt(g)*sqrt(Delta_h + h0))/A\n",
      "equilibrium: K*U0 = sqrt(2)*a*sqrt(g*h0)\n",
      "linearize: A*Delta_h*d/dt = Delta_U*K - sqrt(2)*Delta_h*a*sqrt(g)/(2*sqrt(h0)) + K*U0 - sqrt(2)*a*sqrt(g*h0)\n",
      "linearize_equilibrium: A*Delta_h*d/dt = Delta_U*K - sqrt(2)*Delta_h*a*sqrt(g)/(2*sqrt(h0))\n",
      "alpha_subs: alpha = sqrt(2)*a*sqrt(g)/(2*sqrt(h0))\n",
      "linearize_equilibrium_alpha_subs: A*Delta_h*d/dt = Delta_U*K - Delta_h*alpha\n",
      "laplace_transform: A*Delta_h*s = Delta_U*K - Delta_h*alpha\n",
      "tau_subs: tau = A/alpha\n",
      "Ke_subs: Ke = K/alpha\n",
      "laplace_tau_Ke_subs_simplify: Delta_h = Delta_U*Ke/(s*tau + 1)\n",
      "tf: Delta_h/Delta_U = Ke/(s*tau + 1)\n"
     ]
    }
   ],
   "source": [
    "run()"
   ]
  },
  {
   "cell_type": "code",
   "execution_count": 18,
   "id": "7673b647",
   "metadata": {},
   "outputs": [],
   "source": [
    "from modeling import flow_rate_equations"
   ]
  },
  {
   "cell_type": "code",
   "execution_count": 19,
   "id": "7b54201d",
   "metadata": {},
   "outputs": [
    {
     "name": "stdout",
     "output_type": "stream",
     "text": [
      "dhdt_flow: d*h/dt = (Ve - Vs)/A\n",
      "in_flow: Ve = K*U\n",
      "out_flow1: Vs = a*v\n",
      "out_flow2: Vs = sqrt(2)*a*sqrt(g)*sqrt(h)\n",
      "out_flow3: Vs = sqrt(2)*a*sqrt(g)*sqrt(pf/(g*ro))\n",
      "dhdt_flow_detailed: d*h/dt = (K*U - sqrt(2)*a*sqrt(g)*sqrt(h))/A\n",
      "h_subs: h = Delta_h + h0\n",
      "U_subs: U = Delta_U + U0\n",
      "delta_flow_detailed: d*(Delta_h + h0)/dt = (K*(Delta_U + U0) - sqrt(2)*a*sqrt(g)*sqrt(Delta_h + h0))/A\n",
      "equilibrium: K*U0 = sqrt(2)*a*sqrt(g*h0)\n",
      "linearize: A*Delta_h*d/dt = Delta_U*K - sqrt(2)*Delta_h*a*sqrt(g)/(2*sqrt(h0)) + K*U0 - sqrt(2)*a*sqrt(g*h0)\n",
      "linearize_equilibrium: A*Delta_h*d/dt = Delta_U*K - sqrt(2)*Delta_h*a*sqrt(g)/(2*sqrt(h0))\n",
      "alpha_subs: alpha = sqrt(2)*a*sqrt(g)/(2*sqrt(h0))\n",
      "linearize_equilibrium_alpha_subs: A*Delta_h*d/dt = Delta_U*K - Delta_h*alpha\n",
      "laplace_transform: A*Delta_h*s = Delta_U*K - Delta_h*alpha\n",
      "tau_subs: tau = A/alpha\n",
      "Ke_subs: Ke = K/alpha\n",
      "laplace_tau_Ke_subs_simplify: Delta_h = Delta_U*Ke/(s*tau + 1)\n",
      "tf: Delta_h/Delta_U = Ke/(s*tau + 1)\n"
     ]
    }
   ],
   "source": [
    "flw_eq = flow_rate_equations()"
   ]
  },
  {
   "cell_type": "code",
   "execution_count": 20,
   "id": "35f14a00",
   "metadata": {
    "scrolled": false
   },
   "outputs": [
    {
     "name": "stdout",
     "output_type": "stream",
     "text": [
      "dhdt_flow:\n"
     ]
    },
    {
     "data": {
      "text/plain": "Eq(d*h/dt, (Ve - Vs)/A)",
      "text/latex": "$\\displaystyle \\frac{d h}{dt} = \\frac{Ve - Vs}{A}$"
     },
     "metadata": {},
     "output_type": "display_data"
    },
    {
     "name": "stdout",
     "output_type": "stream",
     "text": [
      "in_flow:\n"
     ]
    },
    {
     "data": {
      "text/plain": "Eq(Ve, K*U)",
      "text/latex": "$\\displaystyle Ve = K U$"
     },
     "metadata": {},
     "output_type": "display_data"
    },
    {
     "name": "stdout",
     "output_type": "stream",
     "text": [
      "out_flow1:\n"
     ]
    },
    {
     "data": {
      "text/plain": "Eq(Vs, a*v)",
      "text/latex": "$\\displaystyle Vs = a v$"
     },
     "metadata": {},
     "output_type": "display_data"
    },
    {
     "name": "stdout",
     "output_type": "stream",
     "text": [
      "out_flow2:\n"
     ]
    },
    {
     "data": {
      "text/plain": "Eq(Vs, sqrt(2)*a*sqrt(g)*sqrt(h))",
      "text/latex": "$\\displaystyle Vs = \\sqrt{2} a \\sqrt{g} \\sqrt{h}$"
     },
     "metadata": {},
     "output_type": "display_data"
    },
    {
     "name": "stdout",
     "output_type": "stream",
     "text": [
      "out_flow3:\n"
     ]
    },
    {
     "data": {
      "text/plain": "Eq(Vs, sqrt(2)*a*sqrt(g)*sqrt(pf/(g*ro)))",
      "text/latex": "$\\displaystyle Vs = \\sqrt{2} a \\sqrt{g} \\sqrt{\\frac{pf}{g ro}}$"
     },
     "metadata": {},
     "output_type": "display_data"
    },
    {
     "name": "stdout",
     "output_type": "stream",
     "text": [
      "dhdt_flow_detailed:\n"
     ]
    },
    {
     "data": {
      "text/plain": "Eq(d*h/dt, (K*U - sqrt(2)*a*sqrt(g)*sqrt(h))/A)",
      "text/latex": "$\\displaystyle \\frac{d h}{dt} = \\frac{K U - \\sqrt{2} a \\sqrt{g} \\sqrt{h}}{A}$"
     },
     "metadata": {},
     "output_type": "display_data"
    },
    {
     "name": "stdout",
     "output_type": "stream",
     "text": [
      "h_subs:\n"
     ]
    },
    {
     "data": {
      "text/plain": "Eq(h, Delta_h + h0)",
      "text/latex": "$\\displaystyle h = \\Delta_{h} + h_{0}$"
     },
     "metadata": {},
     "output_type": "display_data"
    },
    {
     "name": "stdout",
     "output_type": "stream",
     "text": [
      "U_subs:\n"
     ]
    },
    {
     "data": {
      "text/plain": "Eq(U, Delta_U + U0)",
      "text/latex": "$\\displaystyle U = \\Delta_{U} + U_{0}$"
     },
     "metadata": {},
     "output_type": "display_data"
    },
    {
     "name": "stdout",
     "output_type": "stream",
     "text": [
      "delta_flow_detailed:\n"
     ]
    },
    {
     "data": {
      "text/plain": "Eq(d*(Delta_h + h0)/dt, (K*(Delta_U + U0) - sqrt(2)*a*sqrt(g)*sqrt(Delta_h + h0))/A)",
      "text/latex": "$\\displaystyle \\frac{d \\left(\\Delta_{h} + h_{0}\\right)}{dt} = \\frac{K \\left(\\Delta_{U} + U_{0}\\right) - \\sqrt{2} a \\sqrt{g} \\sqrt{\\Delta_{h} + h_{0}}}{A}$"
     },
     "metadata": {},
     "output_type": "display_data"
    },
    {
     "name": "stdout",
     "output_type": "stream",
     "text": [
      "equilibrium:\n"
     ]
    },
    {
     "data": {
      "text/plain": "Eq(K*U0, sqrt(2)*a*sqrt(g*h0))",
      "text/latex": "$\\displaystyle K U_{0} = \\sqrt{2} a \\sqrt{g h_{0}}$"
     },
     "metadata": {},
     "output_type": "display_data"
    },
    {
     "name": "stdout",
     "output_type": "stream",
     "text": [
      "linearize:\n"
     ]
    },
    {
     "data": {
      "text/plain": "Eq(A*Delta_h*d/dt, Delta_U*K - sqrt(2)*Delta_h*a*sqrt(g)/(2*sqrt(h0)) + K*U0 - sqrt(2)*a*sqrt(g*h0))",
      "text/latex": "$\\displaystyle \\frac{A \\Delta_{h} d}{dt} = \\Delta_{U} K - \\frac{\\sqrt{2} \\Delta_{h} a \\sqrt{g}}{2 \\sqrt{h_{0}}} + K U_{0} - \\sqrt{2} a \\sqrt{g h_{0}}$"
     },
     "metadata": {},
     "output_type": "display_data"
    },
    {
     "name": "stdout",
     "output_type": "stream",
     "text": [
      "linearize_equilibrium:\n"
     ]
    },
    {
     "data": {
      "text/plain": "Eq(A*Delta_h*d/dt, Delta_U*K - sqrt(2)*Delta_h*a*sqrt(g)/(2*sqrt(h0)))",
      "text/latex": "$\\displaystyle \\frac{A \\Delta_{h} d}{dt} = \\Delta_{U} K - \\frac{\\sqrt{2} \\Delta_{h} a \\sqrt{g}}{2 \\sqrt{h_{0}}}$"
     },
     "metadata": {},
     "output_type": "display_data"
    },
    {
     "name": "stdout",
     "output_type": "stream",
     "text": [
      "alpha_subs:\n"
     ]
    },
    {
     "data": {
      "text/plain": "Eq(alpha, sqrt(2)*a*sqrt(g)/(2*sqrt(h0)))",
      "text/latex": "$\\displaystyle \\alpha = \\frac{\\sqrt{2} a \\sqrt{g}}{2 \\sqrt{h_{0}}}$"
     },
     "metadata": {},
     "output_type": "display_data"
    },
    {
     "name": "stdout",
     "output_type": "stream",
     "text": [
      "linearize_equilibrium_alpha_subs:\n"
     ]
    },
    {
     "data": {
      "text/plain": "Eq(A*Delta_h*d/dt, Delta_U*K - Delta_h*alpha)",
      "text/latex": "$\\displaystyle \\frac{A \\Delta_{h} d}{dt} = \\Delta_{U} K - \\Delta_{h} \\alpha$"
     },
     "metadata": {},
     "output_type": "display_data"
    },
    {
     "name": "stdout",
     "output_type": "stream",
     "text": [
      "laplace_transform:\n"
     ]
    },
    {
     "data": {
      "text/plain": "Eq(A*Delta_h*s, Delta_U*K - Delta_h*alpha)",
      "text/latex": "$\\displaystyle A \\Delta_{h} s = \\Delta_{U} K - \\Delta_{h} \\alpha$"
     },
     "metadata": {},
     "output_type": "display_data"
    },
    {
     "name": "stdout",
     "output_type": "stream",
     "text": [
      "tau_subs:\n"
     ]
    },
    {
     "data": {
      "text/plain": "Eq(tau, A/alpha)",
      "text/latex": "$\\displaystyle \\tau = \\frac{A}{\\alpha}$"
     },
     "metadata": {},
     "output_type": "display_data"
    },
    {
     "name": "stdout",
     "output_type": "stream",
     "text": [
      "Ke_subs:\n"
     ]
    },
    {
     "data": {
      "text/plain": "Eq(Ke, K/alpha)",
      "text/latex": "$\\displaystyle Ke = \\frac{K}{\\alpha}$"
     },
     "metadata": {},
     "output_type": "display_data"
    },
    {
     "name": "stdout",
     "output_type": "stream",
     "text": [
      "laplace_tau_Ke_subs_simplify:\n"
     ]
    },
    {
     "data": {
      "text/plain": "Eq(Delta_h, Delta_U*Ke/(s*tau + 1))",
      "text/latex": "$\\displaystyle \\Delta_{h} = \\frac{\\Delta_{U} Ke}{s \\tau + 1}$"
     },
     "metadata": {},
     "output_type": "display_data"
    },
    {
     "name": "stdout",
     "output_type": "stream",
     "text": [
      "tf:\n"
     ]
    },
    {
     "data": {
      "text/plain": "Eq(Delta_h/Delta_U, Ke/(s*tau + 1))",
      "text/latex": "$\\displaystyle \\frac{\\Delta_{h}}{\\Delta_{U}} = \\frac{Ke}{s \\tau + 1}$"
     },
     "metadata": {},
     "output_type": "display_data"
    }
   ],
   "source": [
    "for eq_nam, eq_obj in flw_eq.items():\n",
    "    print(f\"{eq_nam}:\")\n",
    "    display(sympy.Eq(eq_obj.left_side, eq_obj.right_side))"
   ]
  },
  {
   "cell_type": "code",
   "execution_count": 22,
   "id": "d06c08be",
   "metadata": {},
   "outputs": [
    {
     "name": "stdout",
     "output_type": "stream",
     "text": [
      "20_to_30 :\n"
     ]
    },
    {
     "data": {
      "text/plain": "2.574547607042/(27.1116091199084*s + 1)",
      "text/latex": "$\\displaystyle \\frac{2.574547607042}{27.1116091199084 s + 1}$"
     },
     "metadata": {},
     "output_type": "display_data"
    },
    {
     "name": "stdout",
     "output_type": "stream",
     "text": [
      "30_to_40 :\n"
     ]
    },
    {
     "data": {
      "text/plain": "1.04456660557164/(10.9999447796212*s + 1)",
      "text/latex": "$\\displaystyle \\frac{1.04456660557164}{10.9999447796212 s + 1}$"
     },
     "metadata": {},
     "output_type": "display_data"
    },
    {
     "name": "stdout",
     "output_type": "stream",
     "text": [
      "40_to_50 :\n"
     ]
    },
    {
     "data": {
      "text/plain": "1.20334018726815/(12.6719306748322*s + 1)",
      "text/latex": "$\\displaystyle \\frac{1.20334018726815}{12.6719306748322 s + 1}$"
     },
     "metadata": {},
     "output_type": "display_data"
    },
    {
     "name": "stdout",
     "output_type": "stream",
     "text": [
      "50_to_60 :\n"
     ]
    },
    {
     "data": {
      "text/plain": "1.43166786627779/(15.0763650568702*s + 1)",
      "text/latex": "$\\displaystyle \\frac{1.43166786627779}{15.0763650568702 s + 1}$"
     },
     "metadata": {},
     "output_type": "display_data"
    }
   ],
   "source": [
    "for name, h in {\"20_to_30\": 0.065, \"30_to_40\": 0.0107, \"40_to_50\": 0.0142, \"50_to_60\": 0.0201}.items():\n",
    "    print(name, ':')\n",
    "    display(evaluate_tf_constants(flw_eq, h0=h, a=4.037088288e-5, A=0.009506, K=0.0009027))"
   ]
  },
  {
   "cell_type": "code",
   "execution_count": null,
   "id": "4c04e182",
   "metadata": {},
   "outputs": [],
   "source": []
  },
  {
   "cell_type": "code",
   "execution_count": null,
   "id": "c518ec14",
   "metadata": {},
   "outputs": [],
   "source": []
  },
  {
   "cell_type": "code",
   "execution_count": null,
   "id": "46712554",
   "metadata": {},
   "outputs": [],
   "source": []
  }
 ],
 "metadata": {
  "kernelspec": {
   "display_name": "Python 3 (ipykernel)",
   "language": "python",
   "name": "python3"
  },
  "language_info": {
   "codemirror_mode": {
    "name": "ipython",
    "version": 3
   },
   "file_extension": ".py",
   "mimetype": "text/x-python",
   "name": "python",
   "nbconvert_exporter": "python",
   "pygments_lexer": "ipython3",
   "version": "3.9.12"
  }
 },
 "nbformat": 4,
 "nbformat_minor": 5
}