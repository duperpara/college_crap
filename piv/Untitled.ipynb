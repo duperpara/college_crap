{
 "cells": [
  {
   "cell_type": "code",
   "execution_count": 1,
   "id": "0511cfeb",
   "metadata": {},
   "outputs": [],
   "source": [
    "import sympy\n",
    "from sympy import symbols, acos, cos, sin, Matrix, nsimplify, Symbol, simplify, S, solvers, init_printing, \\\n",
    "pprint, atan, sqrt, tan, trigsimp, solve\n",
    "from math import pi\n",
    "from typing import List\n",
    "import pandas as pd\n",
    "\n",
    "#init_printing()"
   ]
  },
  {
   "cell_type": "code",
   "execution_count": 2,
   "id": "f17d2259",
   "metadata": {},
   "outputs": [],
   "source": [
    "from modeling import run"
   ]
  },
  {
   "cell_type": "code",
   "execution_count": 3,
   "id": "b68a52b6",
   "metadata": {},
   "outputs": [
    {
     "name": "stdout",
     "output_type": "stream",
     "text": [
      "dhdt_flow: d*h/dt = (Ve - Vs)/A\n",
      "in_flow: Ve = K*U\n",
      "out_flow1: Vs = a*v\n",
      "out_flow2: Vs = sqrt(2)*a*sqrt(g)*sqrt(h)\n",
      "out_flow3: Vs = sqrt(2)*a*sqrt(pf)/sqrt(ro)\n",
      "dhdt_flow_detailed: d*h/dt = (K*U - sqrt(2)*a*sqrt(g)*sqrt(h))/A\n",
      "h_subs: h = Delta_h + h0\n",
      "U_subs: U = Delta_U + U0\n",
      "delta_flow_detailed: d*(Delta_h + h0)/dt = (K*(Delta_U + U0) - sqrt(2)*a*sqrt(g)*sqrt(Delta_h + h0))/A\n",
      "equilibrium: K*U0 = sqrt(2)*a*sqrt(g)*sqrt(h0)\n",
      "linearize: A*Delta_h*d/dt = Delta_U*K - sqrt(2)*Delta_h*a*sqrt(g)/(2*sqrt(h0)) + K*U0 - sqrt(2)*a*sqrt(g)*sqrt(h0)\n",
      "linearize_equilibrium: A*Delta_h*d/dt = Delta_U*K - sqrt(2)*Delta_h*a*sqrt(g)/(2*sqrt(h0))\n",
      "alpha_subs: alpha = sqrt(2)*a*sqrt(g)/(2*sqrt(h0))\n",
      "linearize_equilibrium_alpha_subs: A*Delta_h*d/dt = Delta_U*K - Delta_h*alpha\n",
      "laplace_transform: A*Delta_h*s = Delta_U*K - Delta_h*alpha\n",
      "tau_subs: tau = A/alpha\n",
      "Ke_subs: Ke = K/alpha\n",
      "laplace_tau_Ke_subs_simplify: Delta_h = Delta_U*Ke/(s*tau + 1)\n"
     ]
    }
   ],
   "source": [
    "run()"
   ]
  },
  {
   "cell_type": "code",
   "execution_count": 4,
   "id": "7673b647",
   "metadata": {},
   "outputs": [],
   "source": [
    "from modeling import flow_rate_equations"
   ]
  },
  {
   "cell_type": "code",
   "execution_count": 5,
   "id": "7b54201d",
   "metadata": {},
   "outputs": [
    {
     "name": "stdout",
     "output_type": "stream",
     "text": [
      "dhdt_flow: d*h/dt = (Ve - Vs)/A\n",
      "in_flow: Ve = K*U\n",
      "out_flow1: Vs = a*v\n",
      "out_flow2: Vs = sqrt(2)*a*sqrt(g)*sqrt(h)\n",
      "out_flow3: Vs = sqrt(2)*a*sqrt(pf)/sqrt(ro)\n",
      "dhdt_flow_detailed: d*h/dt = (K*U - sqrt(2)*a*sqrt(g)*sqrt(h))/A\n",
      "h_subs: h = Delta_h + h0\n",
      "U_subs: U = Delta_U + U0\n",
      "delta_flow_detailed: d*(Delta_h + h0)/dt = (K*(Delta_U + U0) - sqrt(2)*a*sqrt(g)*sqrt(Delta_h + h0))/A\n",
      "equilibrium: K*U0 = sqrt(2)*a*sqrt(g)*sqrt(h0)\n",
      "linearize: A*Delta_h*d/dt = Delta_U*K - sqrt(2)*Delta_h*a*sqrt(g)/(2*sqrt(h0)) + K*U0 - sqrt(2)*a*sqrt(g)*sqrt(h0)\n",
      "linearize_equilibrium: A*Delta_h*d/dt = Delta_U*K - sqrt(2)*Delta_h*a*sqrt(g)/(2*sqrt(h0))\n",
      "alpha_subs: alpha = sqrt(2)*a*sqrt(g)/(2*sqrt(h0))\n",
      "linearize_equilibrium_alpha_subs: A*Delta_h*d/dt = Delta_U*K - Delta_h*alpha\n",
      "laplace_transform: A*Delta_h*s = Delta_U*K - Delta_h*alpha\n",
      "tau_subs: tau = A/alpha\n",
      "Ke_subs: Ke = K/alpha\n",
      "laplace_tau_Ke_subs_simplify: Delta_h = Delta_U*Ke/(s*tau + 1)\n"
     ]
    }
   ],
   "source": [
    "flw_eq = flow_rate_equations()"
   ]
  },
  {
   "cell_type": "code",
   "execution_count": 6,
   "id": "35f14a00",
   "metadata": {
    "scrolled": false
   },
   "outputs": [
    {
     "name": "stdout",
     "output_type": "stream",
     "text": [
      "dhdt_flow:\n"
     ]
    },
    {
     "data": {
      "text/latex": [
       "$\\displaystyle \\frac{d h}{dt} = \\frac{Ve - Vs}{A}$"
      ],
      "text/plain": [
       "Eq(d*h/dt, (Ve - Vs)/A)"
      ]
     },
     "metadata": {},
     "output_type": "display_data"
    },
    {
     "name": "stdout",
     "output_type": "stream",
     "text": [
      "in_flow:\n"
     ]
    },
    {
     "data": {
      "text/latex": [
       "$\\displaystyle Ve = K U$"
      ],
      "text/plain": [
       "Eq(Ve, K*U)"
      ]
     },
     "metadata": {},
     "output_type": "display_data"
    },
    {
     "name": "stdout",
     "output_type": "stream",
     "text": [
      "out_flow1:\n"
     ]
    },
    {
     "data": {
      "text/latex": [
       "$\\displaystyle Vs = a v$"
      ],
      "text/plain": [
       "Eq(Vs, a*v)"
      ]
     },
     "metadata": {},
     "output_type": "display_data"
    },
    {
     "name": "stdout",
     "output_type": "stream",
     "text": [
      "out_flow2:\n"
     ]
    },
    {
     "data": {
      "text/latex": [
       "$\\displaystyle Vs = \\sqrt{2} a \\sqrt{g} \\sqrt{h}$"
      ],
      "text/plain": [
       "Eq(Vs, sqrt(2)*a*sqrt(g)*sqrt(h))"
      ]
     },
     "metadata": {},
     "output_type": "display_data"
    },
    {
     "name": "stdout",
     "output_type": "stream",
     "text": [
      "out_flow3:\n"
     ]
    },
    {
     "data": {
      "text/latex": [
       "$\\displaystyle Vs = \\frac{\\sqrt{2} a \\sqrt{pf}}{\\sqrt{ro}}$"
      ],
      "text/plain": [
       "Eq(Vs, sqrt(2)*a*sqrt(pf)/sqrt(ro))"
      ]
     },
     "metadata": {},
     "output_type": "display_data"
    },
    {
     "name": "stdout",
     "output_type": "stream",
     "text": [
      "dhdt_flow_detailed:\n"
     ]
    },
    {
     "data": {
      "text/latex": [
       "$\\displaystyle \\frac{d h}{dt} = \\frac{K U - \\sqrt{2} a \\sqrt{g} \\sqrt{h}}{A}$"
      ],
      "text/plain": [
       "Eq(d*h/dt, (K*U - sqrt(2)*a*sqrt(g)*sqrt(h))/A)"
      ]
     },
     "metadata": {},
     "output_type": "display_data"
    },
    {
     "name": "stdout",
     "output_type": "stream",
     "text": [
      "h_subs:\n"
     ]
    },
    {
     "data": {
      "text/latex": [
       "$\\displaystyle h = \\Delta_{h} + h_{0}$"
      ],
      "text/plain": [
       "Eq(h, Delta_h + h0)"
      ]
     },
     "metadata": {},
     "output_type": "display_data"
    },
    {
     "name": "stdout",
     "output_type": "stream",
     "text": [
      "U_subs:\n"
     ]
    },
    {
     "data": {
      "text/latex": [
       "$\\displaystyle U = \\Delta_{U} + U_{0}$"
      ],
      "text/plain": [
       "Eq(U, Delta_U + U0)"
      ]
     },
     "metadata": {},
     "output_type": "display_data"
    },
    {
     "name": "stdout",
     "output_type": "stream",
     "text": [
      "delta_flow_detailed:\n"
     ]
    },
    {
     "data": {
      "text/latex": [
       "$\\displaystyle \\frac{d \\left(\\Delta_{h} + h_{0}\\right)}{dt} = \\frac{K \\left(\\Delta_{U} + U_{0}\\right) - \\sqrt{2} a \\sqrt{g} \\sqrt{\\Delta_{h} + h_{0}}}{A}$"
      ],
      "text/plain": [
       "Eq(d*(Delta_h + h0)/dt, (K*(Delta_U + U0) - sqrt(2)*a*sqrt(g)*sqrt(Delta_h + h0))/A)"
      ]
     },
     "metadata": {},
     "output_type": "display_data"
    },
    {
     "name": "stdout",
     "output_type": "stream",
     "text": [
      "equilibrium:\n"
     ]
    },
    {
     "data": {
      "text/latex": [
       "$\\displaystyle K U_{0} = \\sqrt{2} a \\sqrt{g} \\sqrt{h_{0}}$"
      ],
      "text/plain": [
       "Eq(K*U0, sqrt(2)*a*sqrt(g)*sqrt(h0))"
      ]
     },
     "metadata": {},
     "output_type": "display_data"
    },
    {
     "name": "stdout",
     "output_type": "stream",
     "text": [
      "linearize:\n"
     ]
    },
    {
     "data": {
      "text/latex": [
       "$\\displaystyle \\frac{A \\Delta_{h} d}{dt} = \\Delta_{U} K - \\frac{\\sqrt{2} \\Delta_{h} a \\sqrt{g}}{2 \\sqrt{h_{0}}} + K U_{0} - \\sqrt{2} a \\sqrt{g} \\sqrt{h_{0}}$"
      ],
      "text/plain": [
       "Eq(A*Delta_h*d/dt, Delta_U*K - sqrt(2)*Delta_h*a*sqrt(g)/(2*sqrt(h0)) + K*U0 - sqrt(2)*a*sqrt(g)*sqrt(h0))"
      ]
     },
     "metadata": {},
     "output_type": "display_data"
    },
    {
     "name": "stdout",
     "output_type": "stream",
     "text": [
      "linearize_equilibrium:\n"
     ]
    },
    {
     "data": {
      "text/latex": [
       "$\\displaystyle \\frac{A \\Delta_{h} d}{dt} = \\Delta_{U} K - \\frac{\\sqrt{2} \\Delta_{h} a \\sqrt{g}}{2 \\sqrt{h_{0}}}$"
      ],
      "text/plain": [
       "Eq(A*Delta_h*d/dt, Delta_U*K - sqrt(2)*Delta_h*a*sqrt(g)/(2*sqrt(h0)))"
      ]
     },
     "metadata": {},
     "output_type": "display_data"
    },
    {
     "name": "stdout",
     "output_type": "stream",
     "text": [
      "alpha_subs:\n"
     ]
    },
    {
     "data": {
      "text/latex": [
       "$\\displaystyle \\alpha = \\frac{\\sqrt{2} a \\sqrt{g}}{2 \\sqrt{h_{0}}}$"
      ],
      "text/plain": [
       "Eq(alpha, sqrt(2)*a*sqrt(g)/(2*sqrt(h0)))"
      ]
     },
     "metadata": {},
     "output_type": "display_data"
    },
    {
     "name": "stdout",
     "output_type": "stream",
     "text": [
      "linearize_equilibrium_alpha_subs:\n"
     ]
    },
    {
     "data": {
      "text/latex": [
       "$\\displaystyle \\frac{A \\Delta_{h} d}{dt} = \\Delta_{U} K - \\Delta_{h} \\alpha$"
      ],
      "text/plain": [
       "Eq(A*Delta_h*d/dt, Delta_U*K - Delta_h*alpha)"
      ]
     },
     "metadata": {},
     "output_type": "display_data"
    },
    {
     "name": "stdout",
     "output_type": "stream",
     "text": [
      "laplace_transform:\n"
     ]
    },
    {
     "data": {
      "text/latex": [
       "$\\displaystyle A \\Delta_{h} s = \\Delta_{U} K - \\Delta_{h} \\alpha$"
      ],
      "text/plain": [
       "Eq(A*Delta_h*s, Delta_U*K - Delta_h*alpha)"
      ]
     },
     "metadata": {},
     "output_type": "display_data"
    },
    {
     "name": "stdout",
     "output_type": "stream",
     "text": [
      "tau_subs:\n"
     ]
    },
    {
     "data": {
      "text/latex": [
       "$\\displaystyle \\tau = \\frac{A}{\\alpha}$"
      ],
      "text/plain": [
       "Eq(tau, A/alpha)"
      ]
     },
     "metadata": {},
     "output_type": "display_data"
    },
    {
     "name": "stdout",
     "output_type": "stream",
     "text": [
      "Ke_subs:\n"
     ]
    },
    {
     "data": {
      "text/latex": [
       "$\\displaystyle Ke = \\frac{K}{\\alpha}$"
      ],
      "text/plain": [
       "Eq(Ke, K/alpha)"
      ]
     },
     "metadata": {},
     "output_type": "display_data"
    },
    {
     "name": "stdout",
     "output_type": "stream",
     "text": [
      "laplace_tau_Ke_subs_simplify:\n"
     ]
    },
    {
     "data": {
      "text/latex": [
       "$\\displaystyle \\Delta_{h} = \\frac{\\Delta_{U} Ke}{s \\tau + 1}$"
      ],
      "text/plain": [
       "Eq(Delta_h, Delta_U*Ke/(s*tau + 1))"
      ]
     },
     "metadata": {},
     "output_type": "display_data"
    }
   ],
   "source": [
    "for eq_nam, eq_obj in flw_eq.items():\n",
    "    print(f\"{eq_nam}:\")\n",
    "    display(sympy.Eq(eq_obj.left_side, eq_obj.right_side))"
   ]
  },
  {
   "cell_type": "code",
   "execution_count": null,
   "id": "d06c08be",
   "metadata": {},
   "outputs": [],
   "source": []
  },
  {
   "cell_type": "code",
   "execution_count": null,
   "id": "4c04e182",
   "metadata": {},
   "outputs": [],
   "source": []
  },
  {
   "cell_type": "code",
   "execution_count": null,
   "id": "c518ec14",
   "metadata": {},
   "outputs": [],
   "source": []
  },
  {
   "cell_type": "code",
   "execution_count": null,
   "id": "46712554",
   "metadata": {},
   "outputs": [],
   "source": []
  }
 ],
 "metadata": {
  "kernelspec": {
   "display_name": "Python 3 (ipykernel)",
   "language": "python",
   "name": "python3"
  },
  "language_info": {
   "codemirror_mode": {
    "name": "ipython",
    "version": 3
   },
   "file_extension": ".py",
   "mimetype": "text/x-python",
   "name": "python",
   "nbconvert_exporter": "python",
   "pygments_lexer": "ipython3",
   "version": "3.9.12"
  }
 },
 "nbformat": 4,
 "nbformat_minor": 5
}
