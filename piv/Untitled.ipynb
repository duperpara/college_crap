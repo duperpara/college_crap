{
 "cells": [
  {
   "cell_type": "code",
   "execution_count": 1,
   "id": "532d56ae",
   "metadata": {},
   "outputs": [],
   "source": [
    "import sympy\n",
    "from sympy import symbols, acos, cos, sin, Matrix, nsimplify, Symbol, simplify, S, solvers, init_printing, \\\n",
    "pprint, atan, sqrt, tan, trigsimp, solve\n",
    "from math import pi\n",
    "from typing import List\n",
    "import pandas as pd\n",
    "\n",
    "init_printing()"
   ]
  },
  {
   "cell_type": "code",
   "execution_count": 2,
   "id": "e0715443",
   "metadata": {},
   "outputs": [],
   "source": [
    "from modeling import run"
   ]
  },
  {
   "cell_type": "code",
   "execution_count": 3,
   "id": "226a6fd3",
   "metadata": {},
   "outputs": [
    {
     "name": "stdout",
     "output_type": "stream",
     "text": [
      "sqrt(h)\n",
      "taylor_targets = [36.0, 72.0, 108.0, 144.0, 180]\n",
      "dhdt_flow: dh/dt = (Ve - Vs)/A\n",
      "in_flow: Ve = K*U\n",
      "out_flow1: Vs = a*v\n",
      "out_flow2: Vs = sqrt(2)*a*sqrt(g)*sqrt(h)\n",
      "out_flow3: Vs = sqrt(2)*a*sqrt(pf)/sqrt(ro)\n",
      "dhdt_flow_detailed1: dh/dt = (K*U - sqrt(2)*a*sqrt(g)*sqrt(h))/A\n",
      "sqrt_h_linearization: sqrt(h) = 0.0481125224324688*h + 5.19615242270663\n",
      "dhdt_flow_detailed2: dh/dt = (K*U - sqrt(2)*a*sqrt(g)*(0.0481125224324688*h + 5.19615242270663))/A\n",
      "dhdt_flow_laplace: c1*h + c2 = 0.0481125224324688*h + 5.19615242270663\n",
      "dhdt_flow_laplace2: H = K*Ul/(A - sqrt(2)*a*c1*sqrt(g)) - sqrt(2)*a*c2*sqrt(g)/(s*(A - sqrt(2)*a*c1*sqrt(g)))\n"
     ]
    }
   ],
   "source": [
    "run()"
   ]
  },
  {
   "cell_type": "code",
   "execution_count": 4,
   "id": "0fffe079",
   "metadata": {},
   "outputs": [],
   "source": [
    "from modeling import flow_rate_equations"
   ]
  },
  {
   "cell_type": "code",
   "execution_count": 5,
   "id": "61cc2b54",
   "metadata": {},
   "outputs": [
    {
     "name": "stdout",
     "output_type": "stream",
     "text": [
      "sqrt(h)\n",
      "taylor_targets = [36.0, 72.0, 108.0, 144.0, 180]\n",
      "dhdt_flow: dh/dt = (Ve - Vs)/A\n",
      "in_flow: Ve = K*U\n",
      "out_flow1: Vs = a*v\n",
      "out_flow2: Vs = sqrt(2)*a*sqrt(g)*sqrt(h)\n",
      "out_flow3: Vs = sqrt(2)*a*sqrt(pf)/sqrt(ro)\n",
      "dhdt_flow_detailed1: dh/dt = (K*U - sqrt(2)*a*sqrt(g)*sqrt(h))/A\n",
      "sqrt_h_linearization: sqrt(h) = 0.0481125224324688*h + 5.19615242270663\n",
      "dhdt_flow_detailed2: dh/dt = (K*U - sqrt(2)*a*sqrt(g)*(0.0481125224324688*h + 5.19615242270663))/A\n",
      "dhdt_flow_laplace: c1*h + c2 = 0.0481125224324688*h + 5.19615242270663\n",
      "dhdt_flow_laplace2: H = K*Ul/(A - sqrt(2)*a*c1*sqrt(g)) - sqrt(2)*a*c2*sqrt(g)/(s*(A - sqrt(2)*a*c1*sqrt(g)))\n"
     ]
    }
   ],
   "source": [
    "flw_eq = flow_rate_equations()"
   ]
  },
  {
   "cell_type": "code",
   "execution_count": 6,
   "id": "7959b2ea",
   "metadata": {},
   "outputs": [
    {
     "name": "stdout",
     "output_type": "stream",
     "text": [
      "dhdt_flow:\n"
     ]
    },
    {
     "data": {
      "image/png": "[encoded data removed]",
      "text/latex": [
       "$\\displaystyle \\frac{dh}{dt} = \\frac{Ve - Vs}{A}$"
      ],
      "text/plain": [
       "dh   Ve - Vs\n",
       "── = ───────\n",
       "dt      A   "
      ]
     },
     "metadata": {},
     "output_type": "display_data"
    },
    {
     "name": "stdout",
     "output_type": "stream",
     "text": [
      "in_flow:\n"
     ]
    },
    {
     "data": {
      "image/png": "[encoded data removed]",
      "text/latex": [
       "$\\displaystyle Ve = K U$"
      ],
      "text/plain": [
       "Ve = K⋅U"
      ]
     },
     "metadata": {},
     "output_type": "display_data"
    },
    {
     "name": "stdout",
     "output_type": "stream",
     "text": [
      "out_flow1:\n"
     ]
    },
    {
     "data": {
      "image/png": "[encoded data removed]",
      "text/latex": [
       "$\\displaystyle Vs = a v$"
      ],
      "text/plain": [
       "Vs = a⋅v"
      ]
     },
     "metadata": {},
     "output_type": "display_data"
    },
    {
     "name": "stdout",
     "output_type": "stream",
     "text": [
      "out_flow2:\n"
     ]
    },
    {
     "data": {
      "image/png": "[encoded data removed]",
      "text/latex": [
       "$\\displaystyle Vs = \\sqrt{2} a \\sqrt{g} \\sqrt{h}$"
      ],
      "text/plain": [
       "Vs = √2⋅a⋅√g⋅√h"
      ]
     },
     "metadata": {},
     "output_type": "display_data"
    },
    {
     "name": "stdout",
     "output_type": "stream",
     "text": [
      "out_flow3:\n"
     ]
    },
    {
     "data": {
      "image/png": "[encoded data removed]",
      "text/latex": [
       "$\\displaystyle Vs = \\frac{\\sqrt{2} a \\sqrt{pf}}{\\sqrt{ro}}$"
      ],
      "text/plain": [
       "            ____\n",
       "     √2⋅a⋅╲╱ pf \n",
       "Vs = ───────────\n",
       "          ____  \n",
       "        ╲╱ ro   "
      ]
     },
     "metadata": {},
     "output_type": "display_data"
    },
    {
     "name": "stdout",
     "output_type": "stream",
     "text": [
      "dhdt_flow_detailed1:\n"
     ]
    },
    {
     "data": {
      "image/png": "[encoded data removed]",
      "text/latex": [
       "$\\displaystyle \\frac{dh}{dt} = \\frac{K U - \\sqrt{2} a \\sqrt{g} \\sqrt{h}}{A}$"
      ],
      "text/plain": [
       "dh   K⋅U - √2⋅a⋅√g⋅√h\n",
       "── = ────────────────\n",
       "dt          A        "
      ]
     },
     "metadata": {},
     "output_type": "display_data"
    },
    {
     "name": "stdout",
     "output_type": "stream",
     "text": [
      "sqrt_h_linearization:\n"
     ]
    },
    {
     "data": {
      "image/png": "[encoded data removed]",
      "text/latex": [
       "$\\displaystyle \\sqrt{h} = 0.0481125224324688 h + 5.19615242270663$"
      ],
      "text/plain": [
       "√h = 0.0481125224324688⋅h + 5.19615242270663"
      ]
     },
     "metadata": {},
     "output_type": "display_data"
    },
    {
     "name": "stdout",
     "output_type": "stream",
     "text": [
      "dhdt_flow_detailed2:\n"
     ]
    },
    {
     "data": {
      "image/png": "[encoded data removed]",
      "text/latex": [
       "$\\displaystyle \\frac{dh}{dt} = \\frac{K U - \\sqrt{2} a \\sqrt{g} \\left(0.0481125224324688 h + 5.19615242270663\\right)}{A}$"
      ],
      "text/plain": [
       "dh   K⋅U - √2⋅a⋅√g⋅(0.0481125224324688⋅h + 5.19615242270663)\n",
       "── = ───────────────────────────────────────────────────────\n",
       "dt                              A                           "
      ]
     },
     "metadata": {},
     "output_type": "display_data"
    },
    {
     "name": "stdout",
     "output_type": "stream",
     "text": [
      "dhdt_flow_laplace:\n"
     ]
    },
    {
     "data": {
      "image/png": "[encoded data removed]",
      "text/latex": [
       "$\\displaystyle c_{1} h + c_{2} = 0.0481125224324688 h + 5.19615242270663$"
      ],
      "text/plain": [
       "c₁⋅h + c₂ = 0.0481125224324688⋅h + 5.19615242270663"
      ]
     },
     "metadata": {},
     "output_type": "display_data"
    },
    {
     "name": "stdout",
     "output_type": "stream",
     "text": [
      "dhdt_flow_laplace2:\n"
     ]
    },
    {
     "data": {
      "image/png": "[encoded data removed]",
      "text/latex": [
       "$\\displaystyle H = \\frac{K Ul}{A - \\sqrt{2} a c_{1} \\sqrt{g}} - \\frac{\\sqrt{2} a c_{2} \\sqrt{g}}{s \\left(A - \\sqrt{2} a c_{1} \\sqrt{g}\\right)}$"
      ],
      "text/plain": [
       "         K⋅Ul            √2⋅a⋅c₂⋅√g    \n",
       "H = ────────────── - ──────────────────\n",
       "    A - √2⋅a⋅c₁⋅√g   s⋅(A - √2⋅a⋅c₁⋅√g)"
      ]
     },
     "metadata": {},
     "output_type": "display_data"
    }
   ],
   "source": [
    "for eq_nam, eq_obj in flw_eq.items():\n",
    "    print(f\"{eq_nam}:\")\n",
    "    display(sympy.Eq(eq_obj.left_side, eq_obj.right_side))"
   ]
  },
  {
   "cell_type": "code",
   "execution_count": 7,
   "id": "4355569a",
   "metadata": {},
   "outputs": [],
   "source": [
    "from sympy.integrals import laplace_transform"
   ]
  },
  {
   "cell_type": "code",
   "execution_count": 9,
   "id": "8c734c4f",
   "metadata": {},
   "outputs": [
    {
     "ename": "TypeError",
     "evalue": "laplace_transform() missing 2 required positional arguments: 't' and 's'",
     "output_type": "error",
     "traceback": [
      "\u001b[1;31m---------------------------------------------------------------------------\u001b[0m",
      "\u001b[1;31mTypeError\u001b[0m                                 Traceback (most recent call last)",
      "Input \u001b[1;32mIn [9]\u001b[0m, in \u001b[0;36m<cell line: 1>\u001b[1;34m()\u001b[0m\n\u001b[1;32m----> 1\u001b[0m \u001b[43mlaplace_transform\u001b[49m\u001b[43m(\u001b[49m\u001b[43mflw_eq\u001b[49m\u001b[38;5;241;43m.\u001b[39;49m\u001b[43mget\u001b[49m\u001b[43m(\u001b[49m\u001b[38;5;124;43m'\u001b[39;49m\u001b[38;5;124;43mdhdt_flow_detailed2\u001b[39;49m\u001b[38;5;124;43m'\u001b[39;49m\u001b[43m)\u001b[49m\u001b[38;5;241;43m.\u001b[39;49m\u001b[43mright_side\u001b[49m\u001b[43m,\u001b[49m\u001b[43m \u001b[49m\u001b[43m)\u001b[49m\n",
      "\u001b[1;31mTypeError\u001b[0m: laplace_transform() missing 2 required positional arguments: 't' and 's'"
     ]
    }
   ],
   "source": [
    "laplace_transform(flw_eq.get('dhdt_flow_detailed2').right_side, )"
   ]
  },
  {
   "cell_type": "code",
   "execution_count": null,
   "id": "7feff973",
   "metadata": {},
   "outputs": [],
   "source": []
  }
 ],
 "metadata": {
  "kernelspec": {
   "display_name": "Python 3 (ipykernel)",
   "language": "python",
   "name": "python3"
  },
  "language_info": {
   "codemirror_mode": {
    "name": "ipython",
    "version": 3
   },
   "file_extension": ".py",
   "mimetype": "text/x-python",
   "name": "python",
   "nbconvert_exporter": "python",
   "pygments_lexer": "ipython3",
   "version": "3.9.12"
  }
 },
 "nbformat": 4,
 "nbformat_minor": 5
}
